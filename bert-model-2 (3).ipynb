{
 "cells": [
  {
   "cell_type": "markdown",
   "id": "4066183e",
   "metadata": {
    "id": "Cfkx25DvdoCl",
    "papermill": {
     "duration": 0.062899,
     "end_time": "2022-01-12T10:53:36.148734",
     "exception": false,
     "start_time": "2022-01-12T10:53:36.085835",
     "status": "completed"
    },
    "tags": []
   },
   "source": [
    "Bidirectional Encoder Representations from Transformers for Multi-class classification"
   ]
  },
  {
   "cell_type": "markdown",
   "id": "6c775c7c",
   "metadata": {
    "id": "c8ZDpNWXeKr4",
    "papermill": {
     "duration": 0.048291,
     "end_time": "2022-01-12T10:53:36.277340",
     "exception": false,
     "start_time": "2022-01-12T10:53:36.229049",
     "status": "completed"
    },
    "tags": []
   },
   "source": [
    "1. Intuitively understand what BERT is\n",
    "2. Preprocess text data for BERT and build PyTorch Dataset (tokenization, attention masks, and padding)\n",
    "3. Use Transfer Learning to build Sentiment Classifier using the Transformers library by Hugging Face\n",
    "4. Evaluate the model on test data\n",
    "5. Predict sentiment on raw text\n",
    "Let's get started!"
   ]
  },
  {
   "cell_type": "code",
   "execution_count": 1,
   "id": "4724f08d",
   "metadata": {
    "execution": {
     "iopub.execute_input": "2022-01-12T10:53:36.375532Z",
     "iopub.status.busy": "2022-01-12T10:53:36.374018Z",
     "iopub.status.idle": "2022-01-12T10:53:44.851872Z",
     "shell.execute_reply": "2022-01-12T10:53:44.851095Z",
     "shell.execute_reply.started": "2022-01-12T10:19:12.660660Z"
    },
    "id": "dFkICxxQ7x9p",
    "papermill": {
     "duration": 8.528356,
     "end_time": "2022-01-12T10:53:44.852037",
     "exception": false,
     "start_time": "2022-01-12T10:53:36.323681",
     "status": "completed"
    },
    "tags": []
   },
   "outputs": [
    {
     "name": "stdout",
     "output_type": "stream",
     "text": [
      "Requirement already satisfied: transformers in /opt/conda/lib/python3.7/site-packages (4.12.5)\r\n",
      "Requirement already satisfied: packaging>=20.0 in /opt/conda/lib/python3.7/site-packages (from transformers) (21.0)\r\n",
      "Requirement already satisfied: huggingface-hub<1.0,>=0.1.0 in /opt/conda/lib/python3.7/site-packages (from transformers) (0.1.2)\r\n",
      "Requirement already satisfied: tqdm>=4.27 in /opt/conda/lib/python3.7/site-packages (from transformers) (4.62.3)\r\n",
      "Requirement already satisfied: requests in /opt/conda/lib/python3.7/site-packages (from transformers) (2.25.1)\r\n",
      "Requirement already satisfied: filelock in /opt/conda/lib/python3.7/site-packages (from transformers) (3.3.2)\r\n",
      "Requirement already satisfied: numpy>=1.17 in /opt/conda/lib/python3.7/site-packages (from transformers) (1.19.5)\r\n",
      "Requirement already satisfied: sacremoses in /opt/conda/lib/python3.7/site-packages (from transformers) (0.0.46)\r\n",
      "Requirement already satisfied: importlib-metadata in /opt/conda/lib/python3.7/site-packages (from transformers) (4.8.2)\r\n",
      "Requirement already satisfied: tokenizers<0.11,>=0.10.1 in /opt/conda/lib/python3.7/site-packages (from transformers) (0.10.3)\r\n",
      "Requirement already satisfied: regex!=2019.12.17 in /opt/conda/lib/python3.7/site-packages (from transformers) (2021.11.10)\r\n",
      "Requirement already satisfied: pyyaml>=5.1 in /opt/conda/lib/python3.7/site-packages (from transformers) (6.0)\r\n",
      "Requirement already satisfied: typing-extensions>=3.7.4.3 in /opt/conda/lib/python3.7/site-packages (from huggingface-hub<1.0,>=0.1.0->transformers) (3.10.0.2)\r\n",
      "Requirement already satisfied: pyparsing>=2.0.2 in /opt/conda/lib/python3.7/site-packages (from packaging>=20.0->transformers) (3.0.6)\r\n",
      "Requirement already satisfied: zipp>=0.5 in /opt/conda/lib/python3.7/site-packages (from importlib-metadata->transformers) (3.6.0)\r\n",
      "Requirement already satisfied: certifi>=2017.4.17 in /opt/conda/lib/python3.7/site-packages (from requests->transformers) (2021.10.8)\r\n",
      "Requirement already satisfied: urllib3<1.27,>=1.21.1 in /opt/conda/lib/python3.7/site-packages (from requests->transformers) (1.26.7)\r\n",
      "Requirement already satisfied: idna<3,>=2.5 in /opt/conda/lib/python3.7/site-packages (from requests->transformers) (2.10)\r\n",
      "Requirement already satisfied: chardet<5,>=3.0.2 in /opt/conda/lib/python3.7/site-packages (from requests->transformers) (4.0.0)\r\n",
      "Requirement already satisfied: joblib in /opt/conda/lib/python3.7/site-packages (from sacremoses->transformers) (1.1.0)\r\n",
      "Requirement already satisfied: six in /opt/conda/lib/python3.7/site-packages (from sacremoses->transformers) (1.16.0)\r\n",
      "Requirement already satisfied: click in /opt/conda/lib/python3.7/site-packages (from sacremoses->transformers) (8.0.3)\r\n",
      "\u001b[33mWARNING: Running pip as the 'root' user can result in broken permissions and conflicting behaviour with the system package manager. It is recommended to use a virtual environment instead: https://pip.pypa.io/warnings/venv\u001b[0m\r\n",
      "Note: you may need to restart the kernel to use updated packages.\n"
     ]
    }
   ],
   "source": [
    "pip install transformers"
   ]
  },
  {
   "cell_type": "code",
   "execution_count": 2,
   "id": "c6c9cd35",
   "metadata": {
    "execution": {
     "iopub.execute_input": "2022-01-12T10:53:44.970177Z",
     "iopub.status.busy": "2022-01-12T10:53:44.959561Z",
     "iopub.status.idle": "2022-01-12T10:53:52.435011Z",
     "shell.execute_reply": "2022-01-12T10:53:52.435504Z",
     "shell.execute_reply.started": "2022-01-12T10:19:24.169857Z"
    },
    "id": "eZ8eUD7870G5",
    "papermill": {
     "duration": 7.531891,
     "end_time": "2022-01-12T10:53:52.435682",
     "exception": false,
     "start_time": "2022-01-12T10:53:44.903791",
     "status": "completed"
    },
    "tags": []
   },
   "outputs": [],
   "source": [
    "import transformers\n",
    "from transformers import BertModel, BertTokenizer, AdamW, get_linear_schedule_with_warmup\n",
    "import torch\n",
    "from sklearn.utils import resample\n",
    "\n",
    "import numpy as np\n",
    "import pandas as pd\n",
    "import seaborn as sns\n",
    "from pylab import rcParams\n",
    "import matplotlib.pyplot as plt\n",
    "from matplotlib import rc\n",
    "from sklearn.model_selection import train_test_split\n",
    "from sklearn.metrics import confusion_matrix, classification_report\n",
    "from collections import defaultdict\n",
    "from textwrap import wrap\n",
    "\n",
    "from torch import nn, optim\n",
    "from torch.utils.data import Dataset, DataLoader\n",
    "import torch.nn.functional as F\n",
    "\n",
    "%matplotlib inline\n",
    "%config InlineBackend.figure_format='retina'\n",
    "\n",
    "sns.set(style='whitegrid', palette='muted', font_scale=1.2)\n",
    "\n",
    "HAPPY_COLORS_PALETTE = [\"#01BEFE\", \"#FFDD00\", \"#FF7D00\", \"#FF006D\", \"#ADFF02\", \"#8F00FF\"]\n",
    "\n",
    "sns.set_palette(sns.color_palette(HAPPY_COLORS_PALETTE))\n",
    "\n",
    "rcParams['figure.figsize'] = 12, 8\n",
    "\n",
    "RANDOM_SEED = 42\n"
   ]
  },
  {
   "cell_type": "code",
   "execution_count": 3,
   "id": "1ffb47e5",
   "metadata": {
    "execution": {
     "iopub.execute_input": "2022-01-12T10:53:52.539392Z",
     "iopub.status.busy": "2022-01-12T10:53:52.538865Z",
     "iopub.status.idle": "2022-01-12T10:53:52.619283Z",
     "shell.execute_reply": "2022-01-12T10:53:52.619953Z",
     "shell.execute_reply.started": "2022-01-12T10:19:33.499608Z"
    },
    "id": "LUJHWbbc79HH",
    "papermill": {
     "duration": 0.135029,
     "end_time": "2022-01-12T10:53:52.620103",
     "exception": false,
     "start_time": "2022-01-12T10:53:52.485074",
     "status": "completed"
    },
    "tags": []
   },
   "outputs": [
    {
     "data": {
      "text/plain": [
       "device(type='cuda', index=0)"
      ]
     },
     "execution_count": 3,
     "metadata": {},
     "output_type": "execute_result"
    }
   ],
   "source": [
    "np.random.seed(RANDOM_SEED)\n",
    "torch.manual_seed(RANDOM_SEED)\n",
    "\n",
    "device = torch.device(\"cuda:0\" if torch.cuda.is_available() else \"cpu\")\n",
    "device"
   ]
  },
  {
   "cell_type": "markdown",
   "id": "1151e198",
   "metadata": {
    "id": "8xGv94SkfkxI",
    "papermill": {
     "duration": 0.04968,
     "end_time": "2022-01-12T10:53:52.719535",
     "exception": false,
     "start_time": "2022-01-12T10:53:52.669855",
     "status": "completed"
    },
    "tags": []
   },
   "source": [
    "Data Exploration\n"
   ]
  },
  {
   "cell_type": "code",
   "execution_count": 4,
   "id": "f07c2fde",
   "metadata": {
    "execution": {
     "iopub.execute_input": "2022-01-12T10:53:52.823085Z",
     "iopub.status.busy": "2022-01-12T10:53:52.822507Z",
     "iopub.status.idle": "2022-01-12T10:53:52.946421Z",
     "shell.execute_reply": "2022-01-12T10:53:52.946887Z",
     "shell.execute_reply.started": "2022-01-12T10:19:33.571276Z"
    },
    "id": "1OP1qSCp8Cva",
    "papermill": {
     "duration": 0.178697,
     "end_time": "2022-01-12T10:53:52.947046",
     "exception": false,
     "start_time": "2022-01-12T10:53:52.768349",
     "status": "completed"
    },
    "tags": []
   },
   "outputs": [
    {
     "data": {
      "text/plain": [
       "None                        10123\n",
       "Home & Kitchen               4960\n",
       "Tools & Home Improvement     2080\n",
       "Office Products              1144\n",
       "Grocery & Gourmet Food       1102\n",
       "Industrial & Scientific       588\n",
       "Electronics                   191\n",
       "Name: category, dtype: int64"
      ]
     },
     "execution_count": 4,
     "metadata": {},
     "output_type": "execute_result"
    }
   ],
   "source": [
    "df_test = pd.read_csv(\"../input/examtask/testing_data.csv\")\n",
    "df = pd.read_csv(\"../input/examtask/training_data.csv\")\n",
    "df['category'].value_counts()"
   ]
  },
  {
   "cell_type": "code",
   "execution_count": 5,
   "id": "5c279be0",
   "metadata": {
    "execution": {
     "iopub.execute_input": "2022-01-12T10:53:53.059705Z",
     "iopub.status.busy": "2022-01-12T10:53:53.059134Z",
     "iopub.status.idle": "2022-01-12T10:53:53.088959Z",
     "shell.execute_reply": "2022-01-12T10:53:53.088512Z",
     "shell.execute_reply.started": "2022-01-12T10:19:33.722287Z"
    },
    "papermill": {
     "duration": 0.092094,
     "end_time": "2022-01-12T10:53:53.089082",
     "exception": false,
     "start_time": "2022-01-12T10:53:52.996988",
     "status": "completed"
    },
    "tags": []
   },
   "outputs": [],
   "source": [
    "df_majority1 = df[df['category']=='None']\n",
    "df_majority2 = df[df['category']=='Home & Kitchen']\n",
    "df_majority3 = df[df['category']=='Tools & Home Improvement']\n",
    "df_majority4 = df[df['category']=='Office Products']\n",
    "df_majority5 = df[df['category']=='Grocery & Gourmet Food']\n",
    "df_majority6 = df[df['category']=='Electronics']\n",
    "df_majority7 = df[df['category']=='Industrial & Scientific']\n",
    "\n",
    "maj_class1 = resample(df_majority1, \n",
    "                                 replace=True,     \n",
    "                                 n_samples=2000,    \n",
    "                                 random_state=123) \n",
    "maj_class2 = resample(df_majority2, \n",
    "                                 replace=True,     \n",
    "                                 n_samples=1500,    \n",
    "                                 random_state=123) \n",
    "maj_class3 = resample(df_majority3, \n",
    "                                 replace=True,     \n",
    "                                 n_samples=1400,    \n",
    "                                 random_state=123) \n",
    "maj_class4 = resample(df_majority4, \n",
    "                                 replace=True,     \n",
    "                                 n_samples=1324,    \n",
    "                                 random_state=123) \n",
    "maj_class5 = resample(df_majority5, \n",
    "          \n",
    "                                 replace=True,     \n",
    "                                 n_samples=1324,    \n",
    "                                 random_state=123) \n",
    "maj_class6 = resample(df_majority6, \n",
    "                                 replace=True,     \n",
    "                                 n_samples=1324,    \n",
    "                                 random_state=123) \n",
    "maj_class7 = resample(df_majority7, \n",
    "                                 replace=True,     \n",
    "                                 n_samples=1324,    \n",
    "                                 random_state=123) \n",
    "df=pd.concat([maj_class1,maj_class2,maj_class3,maj_class4, maj_class5,maj_class6,maj_class7])\n"
   ]
  },
  {
   "cell_type": "code",
   "execution_count": 6,
   "id": "22b4ac93",
   "metadata": {
    "execution": {
     "iopub.execute_input": "2022-01-12T10:53:53.196799Z",
     "iopub.status.busy": "2022-01-12T10:53:53.195014Z",
     "iopub.status.idle": "2022-01-12T10:53:53.197382Z",
     "shell.execute_reply": "2022-01-12T10:53:53.197803Z",
     "shell.execute_reply.started": "2022-01-12T10:19:33.773721Z"
    },
    "id": "NU_ijaohxolm",
    "papermill": {
     "duration": 0.059058,
     "end_time": "2022-01-12T10:53:53.197938",
     "exception": false,
     "start_time": "2022-01-12T10:53:53.138880",
     "status": "completed"
    },
    "tags": []
   },
   "outputs": [],
   "source": [
    "df_test.drop('category', axis=1, inplace=True)\n"
   ]
  },
  {
   "cell_type": "code",
   "execution_count": 7,
   "id": "d1b1b994",
   "metadata": {
    "execution": {
     "iopub.execute_input": "2022-01-12T10:53:53.304709Z",
     "iopub.status.busy": "2022-01-12T10:53:53.303076Z",
     "iopub.status.idle": "2022-01-12T10:53:53.305298Z",
     "shell.execute_reply": "2022-01-12T10:53:53.305716Z",
     "shell.execute_reply.started": "2022-01-12T10:19:33.785220Z"
    },
    "id": "-GiXuHFVK-mU",
    "papermill": {
     "duration": 0.058056,
     "end_time": "2022-01-12T10:53:53.305851",
     "exception": false,
     "start_time": "2022-01-12T10:53:53.247795",
     "status": "completed"
    },
    "tags": []
   },
   "outputs": [],
   "source": [
    "possible_labels = df.category.unique()\n"
   ]
  },
  {
   "cell_type": "code",
   "execution_count": 8,
   "id": "c5c748d9",
   "metadata": {
    "execution": {
     "iopub.execute_input": "2022-01-12T10:53:53.410431Z",
     "iopub.status.busy": "2022-01-12T10:53:53.409697Z",
     "iopub.status.idle": "2022-01-12T10:53:53.421641Z",
     "shell.execute_reply": "2022-01-12T10:53:53.421232Z",
     "shell.execute_reply.started": "2022-01-12T10:19:35.035236Z"
    },
    "id": "7ZpbCWg58ex0",
    "papermill": {
     "duration": 0.066182,
     "end_time": "2022-01-12T10:53:53.421778",
     "exception": false,
     "start_time": "2022-01-12T10:53:53.355596",
     "status": "completed"
    },
    "tags": []
   },
   "outputs": [],
   "source": [
    "possible_labels = df.category.unique()\n",
    "\n",
    "label_dict = {}\n",
    "for index, possible_label in enumerate(possible_labels):\n",
    "    label_dict[possible_label] = index\n",
    "label_dict\n",
    "df['label'] = df.category.replace(label_dict)\n"
   ]
  },
  {
   "cell_type": "code",
   "execution_count": 9,
   "id": "c7f5032c",
   "metadata": {
    "execution": {
     "iopub.execute_input": "2022-01-12T10:53:53.526205Z",
     "iopub.status.busy": "2022-01-12T10:53:53.525652Z",
     "iopub.status.idle": "2022-01-12T10:53:53.528137Z",
     "shell.execute_reply": "2022-01-12T10:53:53.528509Z",
     "shell.execute_reply.started": "2022-01-12T10:19:36.277298Z"
    },
    "id": "UMz67NaX9EV6",
    "papermill": {
     "duration": 0.057588,
     "end_time": "2022-01-12T10:53:53.528635",
     "exception": false,
     "start_time": "2022-01-12T10:53:53.471047",
     "status": "completed"
    },
    "tags": []
   },
   "outputs": [],
   "source": [
    "df = df[['title', 'label']]\n"
   ]
  },
  {
   "cell_type": "code",
   "execution_count": 10,
   "id": "36e15dc4",
   "metadata": {
    "execution": {
     "iopub.execute_input": "2022-01-12T10:53:53.633319Z",
     "iopub.status.busy": "2022-01-12T10:53:53.632764Z",
     "iopub.status.idle": "2022-01-12T10:53:53.643639Z",
     "shell.execute_reply": "2022-01-12T10:53:53.643231Z",
     "shell.execute_reply.started": "2022-01-12T10:19:39.792095Z"
    },
    "papermill": {
     "duration": 0.065677,
     "end_time": "2022-01-12T10:53:53.643776",
     "exception": false,
     "start_time": "2022-01-12T10:53:53.578099",
     "status": "completed"
    },
    "tags": []
   },
   "outputs": [
    {
     "data": {
      "text/html": [
       "<div>\n",
       "<style scoped>\n",
       "    .dataframe tbody tr th:only-of-type {\n",
       "        vertical-align: middle;\n",
       "    }\n",
       "\n",
       "    .dataframe tbody tr th {\n",
       "        vertical-align: top;\n",
       "    }\n",
       "\n",
       "    .dataframe thead th {\n",
       "        text-align: right;\n",
       "    }\n",
       "</style>\n",
       "<table border=\"1\" class=\"dataframe\">\n",
       "  <thead>\n",
       "    <tr style=\"text-align: right;\">\n",
       "      <th></th>\n",
       "      <th>title</th>\n",
       "      <th>label</th>\n",
       "    </tr>\n",
       "  </thead>\n",
       "  <tbody>\n",
       "    <tr>\n",
       "      <th>7069</th>\n",
       "      <td>Freud DS0612BW5 6-Inch Demo Demon Diablo Recip...</td>\n",
       "      <td>0</td>\n",
       "    </tr>\n",
       "    <tr>\n",
       "      <th>2592</th>\n",
       "      <td>Simple Shapes Family Like Branches On A Tree -...</td>\n",
       "      <td>0</td>\n",
       "    </tr>\n",
       "    <tr>\n",
       "      <th>10330</th>\n",
       "      <td>Greeting Card Asst, Set of 15, All Occassions</td>\n",
       "      <td>0</td>\n",
       "    </tr>\n",
       "    <tr>\n",
       "      <th>15463</th>\n",
       "      <td>Weldcote Aluminum 5356 1/16&amp;quot; X 36&amp;quot; T...</td>\n",
       "      <td>0</td>\n",
       "    </tr>\n",
       "    <tr>\n",
       "      <th>19453</th>\n",
       "      <td>Key Cover Owl Cute Patchwork 3 Set Per Pack Mi...</td>\n",
       "      <td>0</td>\n",
       "    </tr>\n",
       "    <tr>\n",
       "      <th>...</th>\n",
       "      <td>...</td>\n",
       "      <td>...</td>\n",
       "    </tr>\n",
       "    <tr>\n",
       "      <th>17206</th>\n",
       "      <td>REVO Double Sided Carpet Tape (3&amp;quot; x 36 ya...</td>\n",
       "      <td>6</td>\n",
       "    </tr>\n",
       "    <tr>\n",
       "      <th>17998</th>\n",
       "      <td>Online Metal Supply White / White Painted Alum...</td>\n",
       "      <td>6</td>\n",
       "    </tr>\n",
       "    <tr>\n",
       "      <th>790</th>\n",
       "      <td>Air Screwdriver, 25 to 40 ft.-lb.</td>\n",
       "      <td>6</td>\n",
       "    </tr>\n",
       "    <tr>\n",
       "      <th>12426</th>\n",
       "      <td>Oak Street Manufacturing B36-STD Black Powder ...</td>\n",
       "      <td>6</td>\n",
       "    </tr>\n",
       "    <tr>\n",
       "      <th>10620</th>\n",
       "      <td>Flair-It 51135 1/2&amp;rdquo; Barb X 3/8&amp;rdquo; Ba...</td>\n",
       "      <td>6</td>\n",
       "    </tr>\n",
       "  </tbody>\n",
       "</table>\n",
       "<p>10196 rows × 2 columns</p>\n",
       "</div>"
      ],
      "text/plain": [
       "                                                   title  label\n",
       "7069   Freud DS0612BW5 6-Inch Demo Demon Diablo Recip...      0\n",
       "2592   Simple Shapes Family Like Branches On A Tree -...      0\n",
       "10330      Greeting Card Asst, Set of 15, All Occassions      0\n",
       "15463  Weldcote Aluminum 5356 1/16&quot; X 36&quot; T...      0\n",
       "19453  Key Cover Owl Cute Patchwork 3 Set Per Pack Mi...      0\n",
       "...                                                  ...    ...\n",
       "17206  REVO Double Sided Carpet Tape (3&quot; x 36 ya...      6\n",
       "17998  Online Metal Supply White / White Painted Alum...      6\n",
       "790                    Air Screwdriver, 25 to 40 ft.-lb.      6\n",
       "12426  Oak Street Manufacturing B36-STD Black Powder ...      6\n",
       "10620  Flair-It 51135 1/2&rdquo; Barb X 3/8&rdquo; Ba...      6\n",
       "\n",
       "[10196 rows x 2 columns]"
      ]
     },
     "execution_count": 10,
     "metadata": {},
     "output_type": "execute_result"
    }
   ],
   "source": [
    "df"
   ]
  },
  {
   "cell_type": "markdown",
   "id": "68e49a80",
   "metadata": {
    "id": "LqzLIM_xfuaA",
    "papermill": {
     "duration": 0.050377,
     "end_time": "2022-01-12T10:53:53.744156",
     "exception": false,
     "start_time": "2022-01-12T10:53:53.693779",
     "status": "completed"
    },
    "tags": []
   },
   "source": [
    "\n",
    "\n",
    "```\n",
    "# Here we can see our classes are highly imbalanced\n",
    "```\n",
    "\n"
   ]
  },
  {
   "cell_type": "code",
   "execution_count": 11,
   "id": "694930e5",
   "metadata": {
    "execution": {
     "iopub.execute_input": "2022-01-12T10:53:53.849145Z",
     "iopub.status.busy": "2022-01-12T10:53:53.848262Z",
     "iopub.status.idle": "2022-01-12T10:53:54.219068Z",
     "shell.execute_reply": "2022-01-12T10:53:54.219475Z",
     "shell.execute_reply.started": "2022-01-12T10:19:43.541793Z"
    },
    "id": "qIV989gY8KTd",
    "papermill": {
     "duration": 0.425524,
     "end_time": "2022-01-12T10:53:54.219622",
     "exception": false,
     "start_time": "2022-01-12T10:53:53.794098",
     "status": "completed"
    },
    "tags": []
   },
   "outputs": [
    {
     "name": "stderr",
     "output_type": "stream",
     "text": [
      "/opt/conda/lib/python3.7/site-packages/seaborn/_decorators.py:43: FutureWarning: Pass the following variable as a keyword arg: x. From version 0.12, the only valid positional argument will be `data`, and passing other arguments without an explicit keyword will result in an error or misinterpretation.\n",
      "  FutureWarning\n"
     ]
    },
    {
     "data": {
      "image/png": "[encoded data removed]",
      "text/plain": [
       "<Figure size 864x576 with 1 Axes>"
      ]
     },
     "metadata": {
      "image/png": {
       "height": 489,
       "width": 745
      }
     },
     "output_type": "display_data"
    }
   ],
   "source": [
    "sns.countplot(df.label)\n",
    "plt.xlabel('review score');\n"
   ]
  },
  {
   "cell_type": "markdown",
   "id": "a2aa0a7e",
   "metadata": {
    "id": "dVrco0MxgT_z",
    "papermill": {
     "duration": 0.052921,
     "end_time": "2022-01-12T10:53:54.325439",
     "exception": false,
     "start_time": "2022-01-12T10:53:54.272518",
     "status": "completed"
    },
    "tags": []
   },
   "source": [
    "Data Preprocessing:- \n",
    "\n",
    "We already know that Machine Learning models don't work with raw text. You need to convert text to numbers (of some sort). BERT requires even more attention (good one, right?). Here are the requirements:\n",
    "\n",
    "1. Add special tokens to separate sentences and do classification\n",
    "2. Pass sequences of constant length (introduce padding)\n",
    "3. Create array of 0s (pad token) and 1s (real token) called attention mask"
   ]
  },
  {
   "cell_type": "code",
   "execution_count": 12,
   "id": "4dc4f6d9",
   "metadata": {
    "execution": {
     "iopub.execute_input": "2022-01-12T10:53:54.432781Z",
     "iopub.status.busy": "2022-01-12T10:53:54.432012Z",
     "iopub.status.idle": "2022-01-12T10:53:54.434634Z",
     "shell.execute_reply": "2022-01-12T10:53:54.434143Z",
     "shell.execute_reply.started": "2022-01-12T10:19:46.758264Z"
    },
    "id": "T-hS6x9U9TkL",
    "papermill": {
     "duration": 0.057765,
     "end_time": "2022-01-12T10:53:54.434798",
     "exception": false,
     "start_time": "2022-01-12T10:53:54.377033",
     "status": "completed"
    },
    "tags": []
   },
   "outputs": [],
   "source": [
    "PRE_TRAINED_MODEL_NAME = 'bert-base-cased'\n"
   ]
  },
  {
   "cell_type": "code",
   "execution_count": 13,
   "id": "1fa5f832",
   "metadata": {
    "execution": {
     "iopub.execute_input": "2022-01-12T10:53:54.542284Z",
     "iopub.status.busy": "2022-01-12T10:53:54.541481Z",
     "iopub.status.idle": "2022-01-12T10:53:58.873909Z",
     "shell.execute_reply": "2022-01-12T10:53:58.873427Z",
     "shell.execute_reply.started": "2022-01-12T10:19:47.896055Z"
    },
    "id": "jWTpv2F8AcB1",
    "papermill": {
     "duration": 4.387844,
     "end_time": "2022-01-12T10:53:58.874052",
     "exception": false,
     "start_time": "2022-01-12T10:53:54.486208",
     "status": "completed"
    },
    "tags": []
   },
   "outputs": [
    {
     "data": {
      "application/vnd.jupyter.widget-view+json": {
       "model_id": "bb8bd430ed474d21b2a4979adb7326d3",
       "version_major": 2,
       "version_minor": 0
      },
      "text/plain": [
       "Downloading:   0%|          | 0.00/208k [00:00<?, ?B/s]"
      ]
     },
     "metadata": {},
     "output_type": "display_data"
    },
    {
     "data": {
      "application/vnd.jupyter.widget-view+json": {
       "model_id": "d710464319b242c8abef6bd35cb897ed",
       "version_major": 2,
       "version_minor": 0
      },
      "text/plain": [
       "Downloading:   0%|          | 0.00/29.0 [00:00<?, ?B/s]"
      ]
     },
     "metadata": {},
     "output_type": "display_data"
    },
    {
     "data": {
      "application/vnd.jupyter.widget-view+json": {
       "model_id": "89769b1455bb41139bc5ff196d49148d",
       "version_major": 2,
       "version_minor": 0
      },
      "text/plain": [
       "Downloading:   0%|          | 0.00/426k [00:00<?, ?B/s]"
      ]
     },
     "metadata": {},
     "output_type": "display_data"
    },
    {
     "data": {
      "application/vnd.jupyter.widget-view+json": {
       "model_id": "bb4a9d07f63843e1a9fc8cd823962e2f",
       "version_major": 2,
       "version_minor": 0
      },
      "text/plain": [
       "Downloading:   0%|          | 0.00/570 [00:00<?, ?B/s]"
      ]
     },
     "metadata": {},
     "output_type": "display_data"
    }
   ],
   "source": [
    "tokenizer = BertTokenizer.from_pretrained(PRE_TRAINED_MODEL_NAME)\n"
   ]
  },
  {
   "cell_type": "code",
   "execution_count": 14,
   "id": "e4f68cf0",
   "metadata": {
    "execution": {
     "iopub.execute_input": "2022-01-12T10:53:58.988093Z",
     "iopub.status.busy": "2022-01-12T10:53:58.987262Z",
     "iopub.status.idle": "2022-01-12T10:53:58.990602Z",
     "shell.execute_reply": "2022-01-12T10:53:58.991049Z",
     "shell.execute_reply.started": "2022-01-12T10:19:53.656424Z"
    },
    "id": "XXxU3FuuAetZ",
    "papermill": {
     "duration": 0.063804,
     "end_time": "2022-01-12T10:53:58.991192",
     "exception": false,
     "start_time": "2022-01-12T10:53:58.927388",
     "status": "completed"
    },
    "tags": []
   },
   "outputs": [
    {
     "name": "stdout",
     "output_type": "stream",
     "text": [
      " Sentence: When was I last outside? I am stuck at home for 2 weeks.\n",
      "   Tokens: ['When', 'was', 'I', 'last', 'outside', '?', 'I', 'am', 'stuck', 'at', 'home', 'for', '2', 'weeks', '.']\n",
      "Token IDs: [1332, 1108, 146, 1314, 1796, 136, 146, 1821, 5342, 1120, 1313, 1111, 123, 2277, 119]\n"
     ]
    }
   ],
   "source": [
    "sample_txt = 'When was I last outside? I am stuck at home for 2 weeks.'\n",
    "tokens = tokenizer.tokenize(sample_txt)\n",
    "token_ids = tokenizer.convert_tokens_to_ids(tokens)\n",
    "\n",
    "print(f' Sentence: {sample_txt}')\n",
    "print(f'   Tokens: {tokens}')\n",
    "print(f'Token IDs: {token_ids}')\n"
   ]
  },
  {
   "cell_type": "markdown",
   "id": "2d1dd685",
   "metadata": {
    "id": "ttlr20JkhHcA",
    "papermill": {
     "duration": 0.052844,
     "end_time": "2022-01-12T10:53:59.096777",
     "exception": false,
     "start_time": "2022-01-12T10:53:59.043933",
     "status": "completed"
    },
    "tags": []
   },
   "source": [
    "Special Tokens\n"
   ]
  },
  {
   "cell_type": "code",
   "execution_count": 15,
   "id": "91a30874",
   "metadata": {
    "execution": {
     "iopub.execute_input": "2022-01-12T10:53:59.208630Z",
     "iopub.status.busy": "2022-01-12T10:53:59.207860Z",
     "iopub.status.idle": "2022-01-12T10:53:59.210618Z",
     "shell.execute_reply": "2022-01-12T10:53:59.211459Z",
     "shell.execute_reply.started": "2022-01-12T10:19:57.375250Z"
    },
    "id": "aJsqlw-2AnYc",
    "papermill": {
     "duration": 0.061619,
     "end_time": "2022-01-12T10:53:59.211591",
     "exception": false,
     "start_time": "2022-01-12T10:53:59.149972",
     "status": "completed"
    },
    "tags": []
   },
   "outputs": [
    {
     "data": {
      "text/plain": [
       "('[UNK]', 100)"
      ]
     },
     "execution_count": 15,
     "metadata": {},
     "output_type": "execute_result"
    }
   ],
   "source": [
    "tokenizer.sep_token, tokenizer.sep_token_id\n",
    "tokenizer.cls_token, tokenizer.cls_token_id\n",
    "tokenizer.pad_token, tokenizer.pad_token_id\n",
    "tokenizer.unk_token, tokenizer.unk_token_id\n"
   ]
  },
  {
   "cell_type": "markdown",
   "id": "f369002a",
   "metadata": {
    "id": "kYar71zahZsA",
    "papermill": {
     "duration": 0.053373,
     "end_time": "2022-01-12T10:53:59.318329",
     "exception": false,
     "start_time": "2022-01-12T10:53:59.264956",
     "status": "completed"
    },
    "tags": []
   },
   "source": [
    "BERT understands tokens that were in the training set.\n",
    "All of that work can be done using the encode_plus() method:"
   ]
  },
  {
   "cell_type": "code",
   "execution_count": 16,
   "id": "be451df1",
   "metadata": {
    "execution": {
     "iopub.execute_input": "2022-01-12T10:53:59.431153Z",
     "iopub.status.busy": "2022-01-12T10:53:59.430562Z",
     "iopub.status.idle": "2022-01-12T10:53:59.444973Z",
     "shell.execute_reply": "2022-01-12T10:53:59.445479Z",
     "shell.execute_reply.started": "2022-01-12T10:20:00.086492Z"
    },
    "id": "peDV6-3EJn_F",
    "papermill": {
     "duration": 0.073389,
     "end_time": "2022-01-12T10:53:59.445611",
     "exception": false,
     "start_time": "2022-01-12T10:53:59.372222",
     "status": "completed"
    },
    "tags": []
   },
   "outputs": [
    {
     "name": "stderr",
     "output_type": "stream",
     "text": [
      "Truncation was not explicitly activated but `max_length` is provided a specific value, please use `truncation=True` to explicitly truncate examples to max length. Defaulting to 'longest_first' truncation strategy. If you encode pairs of sequences (GLUE-style) with the tokenizer you can select this strategy more precisely by providing a specific strategy to `truncation`.\n",
      "/opt/conda/lib/python3.7/site-packages/transformers/tokenization_utils_base.py:2218: FutureWarning: The `pad_to_max_length` argument is deprecated and will be removed in a future version, use `padding=True` or `padding='longest'` to pad to the longest sequence in the batch, or use `padding='max_length'` to pad to a max length. In this case, you can give a specific length with `max_length` (e.g. `max_length=45`) or leave max_length to None to pad to the maximal input size of the model (e.g. 512 for Bert).\n",
      "  FutureWarning,\n"
     ]
    },
    {
     "data": {
      "text/plain": [
       "dict_keys(['input_ids', 'attention_mask'])"
      ]
     },
     "execution_count": 16,
     "metadata": {},
     "output_type": "execute_result"
    }
   ],
   "source": [
    "encoding = tokenizer.encode_plus(\n",
    "  sample_txt,\n",
    "  max_length=32,\n",
    "  add_special_tokens=True, # Add '[CLS]' and '[SEP]'\n",
    "  return_token_type_ids=False,\n",
    "  pad_to_max_length=True,\n",
    "  return_attention_mask=True,\n",
    "  return_tensors='pt',  # Return PyTorch tensors\n",
    ")\n",
    "\n",
    "encoding.keys()"
   ]
  },
  {
   "cell_type": "code",
   "execution_count": 17,
   "id": "62eb054e",
   "metadata": {
    "execution": {
     "iopub.execute_input": "2022-01-12T10:53:59.566365Z",
     "iopub.status.busy": "2022-01-12T10:53:59.557051Z",
     "iopub.status.idle": "2022-01-12T10:53:59.575187Z",
     "shell.execute_reply": "2022-01-12T10:53:59.575636Z",
     "shell.execute_reply.started": "2022-01-12T10:20:04.159179Z"
    },
    "id": "hYNiCu1NJtwX",
    "papermill": {
     "duration": 0.076138,
     "end_time": "2022-01-12T10:53:59.575788",
     "exception": false,
     "start_time": "2022-01-12T10:53:59.499650",
     "status": "completed"
    },
    "tags": []
   },
   "outputs": [
    {
     "name": "stdout",
     "output_type": "stream",
     "text": [
      "32\n"
     ]
    },
    {
     "data": {
      "text/plain": [
       "tensor([ 101, 1332, 1108,  146, 1314, 1796,  136,  146, 1821, 5342, 1120, 1313,\n",
       "        1111,  123, 2277,  119,  102,    0,    0,    0,    0,    0,    0,    0,\n",
       "           0,    0,    0,    0,    0,    0,    0,    0])"
      ]
     },
     "execution_count": 17,
     "metadata": {},
     "output_type": "execute_result"
    }
   ],
   "source": [
    "print(len(encoding['input_ids'][0]))\n",
    "encoding['input_ids'][0]"
   ]
  },
  {
   "cell_type": "markdown",
   "id": "ba884825",
   "metadata": {
    "id": "YuC78u9shsUV",
    "papermill": {
     "duration": 0.05532,
     "end_time": "2022-01-12T10:53:59.685953",
     "exception": false,
     "start_time": "2022-01-12T10:53:59.630633",
     "status": "completed"
    },
    "tags": []
   },
   "source": [
    "The attention mask has the same length:\n",
    "\n"
   ]
  },
  {
   "cell_type": "code",
   "execution_count": 18,
   "id": "f5ee7dc7",
   "metadata": {
    "execution": {
     "iopub.execute_input": "2022-01-12T10:53:59.858102Z",
     "iopub.status.busy": "2022-01-12T10:53:59.857490Z",
     "iopub.status.idle": "2022-01-12T10:53:59.864349Z",
     "shell.execute_reply": "2022-01-12T10:53:59.864852Z",
     "shell.execute_reply.started": "2022-01-12T10:20:07.427969Z"
    },
    "id": "5N8Ey4oVJwL3",
    "papermill": {
     "duration": 0.116254,
     "end_time": "2022-01-12T10:53:59.865047",
     "exception": false,
     "start_time": "2022-01-12T10:53:59.748793",
     "status": "completed"
    },
    "tags": []
   },
   "outputs": [
    {
     "name": "stdout",
     "output_type": "stream",
     "text": [
      "32\n"
     ]
    },
    {
     "data": {
      "text/plain": [
       "tensor([[1, 1, 1, 1, 1, 1, 1, 1, 1, 1, 1, 1, 1, 1, 1, 1, 1, 0, 0, 0, 0, 0, 0, 0,\n",
       "         0, 0, 0, 0, 0, 0, 0, 0]])"
      ]
     },
     "execution_count": 18,
     "metadata": {},
     "output_type": "execute_result"
    }
   ],
   "source": [
    "print(len(encoding['attention_mask'][0]))\n",
    "encoding['attention_mask']"
   ]
  },
  {
   "cell_type": "code",
   "execution_count": 19,
   "id": "5d9400d5",
   "metadata": {
    "execution": {
     "iopub.execute_input": "2022-01-12T10:54:00.072066Z",
     "iopub.status.busy": "2022-01-12T10:54:00.071226Z",
     "iopub.status.idle": "2022-01-12T10:54:00.076909Z",
     "shell.execute_reply": "2022-01-12T10:54:00.077520Z",
     "shell.execute_reply.started": "2022-01-12T10:20:10.783656Z"
    },
    "id": "3Vj18QmOJ2mv",
    "papermill": {
     "duration": 0.108183,
     "end_time": "2022-01-12T10:54:00.077742",
     "exception": false,
     "start_time": "2022-01-12T10:53:59.969559",
     "status": "completed"
    },
    "tags": []
   },
   "outputs": [
    {
     "data": {
      "text/plain": [
       "['[CLS]',\n",
       " 'When',\n",
       " 'was',\n",
       " 'I',\n",
       " 'last',\n",
       " 'outside',\n",
       " '?',\n",
       " 'I',\n",
       " 'am',\n",
       " 'stuck',\n",
       " 'at',\n",
       " 'home',\n",
       " 'for',\n",
       " '2',\n",
       " 'weeks',\n",
       " '.',\n",
       " '[SEP]',\n",
       " '[PAD]',\n",
       " '[PAD]',\n",
       " '[PAD]',\n",
       " '[PAD]',\n",
       " '[PAD]',\n",
       " '[PAD]',\n",
       " '[PAD]',\n",
       " '[PAD]',\n",
       " '[PAD]',\n",
       " '[PAD]',\n",
       " '[PAD]',\n",
       " '[PAD]',\n",
       " '[PAD]',\n",
       " '[PAD]',\n",
       " '[PAD]']"
      ]
     },
     "execution_count": 19,
     "metadata": {},
     "output_type": "execute_result"
    }
   ],
   "source": [
    "tokenizer.convert_ids_to_tokens(encoding['input_ids'][0])\n"
   ]
  },
  {
   "cell_type": "code",
   "execution_count": 20,
   "id": "65b25a97",
   "metadata": {
    "execution": {
     "iopub.execute_input": "2022-01-12T10:54:00.273826Z",
     "iopub.status.busy": "2022-01-12T10:54:00.273037Z",
     "iopub.status.idle": "2022-01-12T10:54:05.374682Z",
     "shell.execute_reply": "2022-01-12T10:54:05.374183Z",
     "shell.execute_reply.started": "2022-01-12T10:20:14.040739Z"
    },
    "id": "UMsaNrpFA4ks",
    "papermill": {
     "duration": 5.203284,
     "end_time": "2022-01-12T10:54:05.374833",
     "exception": false,
     "start_time": "2022-01-12T10:54:00.171549",
     "status": "completed"
    },
    "tags": []
   },
   "outputs": [],
   "source": [
    "token_lens = []\n",
    "\n",
    "for txt in df.title:\n",
    "    tokens = tokenizer.encode(txt, max_length=512)\n",
    "    token_lens.append(len(tokens))\n"
   ]
  },
  {
   "cell_type": "code",
   "execution_count": 21,
   "id": "bd0f23b2",
   "metadata": {
    "execution": {
     "iopub.execute_input": "2022-01-12T10:54:05.491702Z",
     "iopub.status.busy": "2022-01-12T10:54:05.491015Z",
     "iopub.status.idle": "2022-01-12T10:54:06.182569Z",
     "shell.execute_reply": "2022-01-12T10:54:06.182123Z",
     "shell.execute_reply.started": "2022-01-12T10:20:20.513710Z"
    },
    "id": "QyDbiOrABS9L",
    "papermill": {
     "duration": 0.75139,
     "end_time": "2022-01-12T10:54:06.182708",
     "exception": false,
     "start_time": "2022-01-12T10:54:05.431318",
     "status": "completed"
    },
    "tags": []
   },
   "outputs": [
    {
     "name": "stderr",
     "output_type": "stream",
     "text": [
      "/opt/conda/lib/python3.7/site-packages/seaborn/distributions.py:2619: FutureWarning: `distplot` is a deprecated function and will be removed in a future version. Please adapt your code to use either `displot` (a figure-level function with similar flexibility) or `histplot` (an axes-level function for histograms).\n",
      "  warnings.warn(msg, FutureWarning)\n"
     ]
    },
    {
     "data": {
      "image/png": "[encoded data removed]",
      "text/plain": [
       "<Figure size 864x576 with 1 Axes>"
      ]
     },
     "metadata": {
      "image/png": {
       "height": 489,
       "width": 749
      }
     },
     "output_type": "display_data"
    }
   ],
   "source": [
    "sns.distplot(token_lens)\n",
    "plt.xlim([0, 256]);\n",
    "plt.xlabel('Token count');"
   ]
  },
  {
   "cell_type": "code",
   "execution_count": null,
   "id": "0bbdc033",
   "metadata": {
    "papermill": {
     "duration": 0.05712,
     "end_time": "2022-01-12T10:54:06.297706",
     "exception": false,
     "start_time": "2022-01-12T10:54:06.240586",
     "status": "completed"
    },
    "tags": []
   },
   "outputs": [],
   "source": []
  },
  {
   "cell_type": "code",
   "execution_count": null,
   "id": "28e6c99b",
   "metadata": {
    "papermill": {
     "duration": 0.057651,
     "end_time": "2022-01-12T10:54:06.413208",
     "exception": false,
     "start_time": "2022-01-12T10:54:06.355557",
     "status": "completed"
    },
    "tags": []
   },
   "outputs": [],
   "source": []
  },
  {
   "cell_type": "code",
   "execution_count": 22,
   "id": "176ef2ef",
   "metadata": {
    "execution": {
     "iopub.execute_input": "2022-01-12T10:54:06.533512Z",
     "iopub.status.busy": "2022-01-12T10:54:06.532658Z",
     "iopub.status.idle": "2022-01-12T10:54:06.534694Z",
     "shell.execute_reply": "2022-01-12T10:54:06.535097Z",
     "shell.execute_reply.started": "2022-01-12T10:22:39.863330Z"
    },
    "id": "d6O7hp8wBYD5",
    "papermill": {
     "duration": 0.063674,
     "end_time": "2022-01-12T10:54:06.535231",
     "exception": false,
     "start_time": "2022-01-12T10:54:06.471557",
     "status": "completed"
    },
    "tags": []
   },
   "outputs": [],
   "source": [
    "MAX_LEN = 160\n"
   ]
  },
  {
   "cell_type": "markdown",
   "id": "97f2cf54",
   "metadata": {
    "id": "HSN0JYVnh5m0",
    "papermill": {
     "duration": 0.05723,
     "end_time": "2022-01-12T10:54:06.650055",
     "exception": false,
     "start_time": "2022-01-12T10:54:06.592825",
     "status": "completed"
    },
    "tags": []
   },
   "source": [
    "We have all building blocks required to create a PyTorch dataset. Let's do it:\n",
    "\n"
   ]
  },
  {
   "cell_type": "code",
   "execution_count": 23,
   "id": "8d4ae6e3",
   "metadata": {
    "execution": {
     "iopub.execute_input": "2022-01-12T10:54:06.773562Z",
     "iopub.status.busy": "2022-01-12T10:54:06.772757Z",
     "iopub.status.idle": "2022-01-12T10:54:06.775185Z",
     "shell.execute_reply": "2022-01-12T10:54:06.774784Z",
     "shell.execute_reply.started": "2022-01-12T10:22:54.479741Z"
    },
    "id": "H613htgwBasn",
    "papermill": {
     "duration": 0.067569,
     "end_time": "2022-01-12T10:54:06.775294",
     "exception": false,
     "start_time": "2022-01-12T10:54:06.707725",
     "status": "completed"
    },
    "tags": []
   },
   "outputs": [],
   "source": [
    "class GPReviewDataset(Dataset):\n",
    "\n",
    "  def __init__(self, reviews, targets, tokenizer, max_len):\n",
    "    self.reviews = reviews\n",
    "    self.targets = targets\n",
    "    self.tokenizer = tokenizer\n",
    "    self.max_len = max_len\n",
    "  \n",
    "  def __len__(self):\n",
    "    return len(self.reviews)\n",
    "  \n",
    "  def __getitem__(self, item):\n",
    "    review = str(self.reviews[item])\n",
    "    target = self.targets[item]\n",
    "    \n",
    "\n",
    "    encoding = self.tokenizer.encode_plus(\n",
    "      review,\n",
    "      add_special_tokens=True,\n",
    "      max_length=self.max_len,\n",
    "      return_token_type_ids=False,\n",
    "      pad_to_max_length=True,\n",
    "      return_attention_mask=True,\n",
    "      return_tensors='pt',\n",
    "    )\n",
    "\n",
    "    return {\n",
    "      'review_text': review,\n",
    "      'input_ids': encoding['input_ids'].flatten(),\n",
    "      'attention_mask': encoding['attention_mask'].flatten(),\n",
    "      'targets': torch.tensor(target, dtype=torch.long)\n",
    "    }"
   ]
  },
  {
   "cell_type": "code",
   "execution_count": 24,
   "id": "a6d4d90c",
   "metadata": {
    "execution": {
     "iopub.execute_input": "2022-01-12T10:54:06.896822Z",
     "iopub.status.busy": "2022-01-12T10:54:06.896039Z",
     "iopub.status.idle": "2022-01-12T10:54:06.901847Z",
     "shell.execute_reply": "2022-01-12T10:54:06.901299Z",
     "shell.execute_reply.started": "2022-01-12T10:22:56.604867Z"
    },
    "id": "IV5FtH3CBdEM",
    "papermill": {
     "duration": 0.069596,
     "end_time": "2022-01-12T10:54:06.901962",
     "exception": false,
     "start_time": "2022-01-12T10:54:06.832366",
     "status": "completed"
    },
    "tags": []
   },
   "outputs": [],
   "source": [
    "df_train, df_test = train_test_split(df, test_size=0.3, random_state=RANDOM_SEED)\n",
    "df_val, df_test = train_test_split(df_test, test_size=0.5, random_state=RANDOM_SEED)\n",
    "\n"
   ]
  },
  {
   "cell_type": "code",
   "execution_count": 25,
   "id": "c36a72bd",
   "metadata": {
    "execution": {
     "iopub.execute_input": "2022-01-12T10:54:07.023560Z",
     "iopub.status.busy": "2022-01-12T10:54:07.022882Z",
     "iopub.status.idle": "2022-01-12T10:54:07.025769Z",
     "shell.execute_reply": "2022-01-12T10:54:07.026209Z",
     "shell.execute_reply.started": "2022-01-12T10:22:59.540274Z"
    },
    "papermill": {
     "duration": 0.066503,
     "end_time": "2022-01-12T10:54:07.026350",
     "exception": false,
     "start_time": "2022-01-12T10:54:06.959847",
     "status": "completed"
    },
    "tags": []
   },
   "outputs": [
    {
     "data": {
      "text/plain": [
       "1530"
      ]
     },
     "execution_count": 25,
     "metadata": {},
     "output_type": "execute_result"
    }
   ],
   "source": [
    "len(df_test)"
   ]
  },
  {
   "cell_type": "code",
   "execution_count": 26,
   "id": "d2119ef9",
   "metadata": {
    "execution": {
     "iopub.execute_input": "2022-01-12T10:54:07.147376Z",
     "iopub.status.busy": "2022-01-12T10:54:07.146768Z",
     "iopub.status.idle": "2022-01-12T10:54:07.149371Z",
     "shell.execute_reply": "2022-01-12T10:54:07.149830Z",
     "shell.execute_reply.started": "2022-01-12T10:23:01.864945Z"
    },
    "id": "yxGDeUxtBtqz",
    "papermill": {
     "duration": 0.065173,
     "end_time": "2022-01-12T10:54:07.149960",
     "exception": false,
     "start_time": "2022-01-12T10:54:07.084787",
     "status": "completed"
    },
    "tags": []
   },
   "outputs": [
    {
     "data": {
      "text/plain": [
       "((7137, 2), (1529, 2), (1530, 2))"
      ]
     },
     "execution_count": 26,
     "metadata": {},
     "output_type": "execute_result"
    }
   ],
   "source": [
    "df_train.shape, df_val.shape, df_test.shape\n"
   ]
  },
  {
   "cell_type": "code",
   "execution_count": 27,
   "id": "fb130622",
   "metadata": {
    "execution": {
     "iopub.execute_input": "2022-01-12T10:54:07.271862Z",
     "iopub.status.busy": "2022-01-12T10:54:07.271079Z",
     "iopub.status.idle": "2022-01-12T10:54:07.272974Z",
     "shell.execute_reply": "2022-01-12T10:54:07.273459Z",
     "shell.execute_reply.started": "2022-01-12T10:23:08.092843Z"
    },
    "id": "KV-D6rOFBwnK",
    "papermill": {
     "duration": 0.065191,
     "end_time": "2022-01-12T10:54:07.273585",
     "exception": false,
     "start_time": "2022-01-12T10:54:07.208394",
     "status": "completed"
    },
    "tags": []
   },
   "outputs": [],
   "source": [
    "def create_data_loader(df, tokenizer, max_len, batch_size):\n",
    "\n",
    "  ds = GPReviewDataset(\n",
    "    reviews=df.title.to_numpy(),\n",
    "    targets=df.label.to_numpy(),\n",
    "    tokenizer=tokenizer,\n",
    "    max_len=max_len\n",
    "  )\n",
    "\n",
    "  return DataLoader(ds, batch_size=batch_size, num_workers=4)\n"
   ]
  },
  {
   "cell_type": "code",
   "execution_count": 28,
   "id": "8f323190",
   "metadata": {
    "execution": {
     "iopub.execute_input": "2022-01-12T10:54:07.395869Z",
     "iopub.status.busy": "2022-01-12T10:54:07.395215Z",
     "iopub.status.idle": "2022-01-12T10:54:07.401180Z",
     "shell.execute_reply": "2022-01-12T10:54:07.401580Z",
     "shell.execute_reply.started": "2022-01-12T10:23:10.241750Z"
    },
    "id": "V_BeSYWpCWL-",
    "papermill": {
     "duration": 0.070357,
     "end_time": "2022-01-12T10:54:07.401730",
     "exception": false,
     "start_time": "2022-01-12T10:54:07.331373",
     "status": "completed"
    },
    "tags": []
   },
   "outputs": [
    {
     "name": "stderr",
     "output_type": "stream",
     "text": [
      "/opt/conda/lib/python3.7/site-packages/torch/utils/data/dataloader.py:481: UserWarning: This DataLoader will create 4 worker processes in total. Our suggested max number of worker in current system is 2, which is smaller than what this DataLoader is going to create. Please be aware that excessive worker creation might get DataLoader running slow or even freeze, lower the worker number to avoid potential slowness/freeze if necessary.\n",
      "  cpuset_checked))\n"
     ]
    }
   ],
   "source": [
    "BATCH_SIZE = 30\n",
    "#16\n",
    "train_data_loader = create_data_loader(df_train, tokenizer, MAX_LEN, BATCH_SIZE)\n",
    "val_data_loader = create_data_loader(df_val, tokenizer, MAX_LEN, BATCH_SIZE)\n",
    "test_data_loader = create_data_loader(df_test, tokenizer, MAX_LEN, BATCH_SIZE)\n"
   ]
  },
  {
   "cell_type": "code",
   "execution_count": 29,
   "id": "b093d26c",
   "metadata": {
    "execution": {
     "iopub.execute_input": "2022-01-12T10:54:07.528494Z",
     "iopub.status.busy": "2022-01-12T10:54:07.527956Z",
     "iopub.status.idle": "2022-01-12T10:54:07.801353Z",
     "shell.execute_reply": "2022-01-12T10:54:07.800898Z",
     "shell.execute_reply.started": "2022-01-12T10:23:13.644898Z"
    },
    "id": "xeN6IM9NC1Wc",
    "papermill": {
     "duration": 0.341321,
     "end_time": "2022-01-12T10:54:07.801483",
     "exception": false,
     "start_time": "2022-01-12T10:54:07.460162",
     "status": "completed"
    },
    "tags": []
   },
   "outputs": [
    {
     "name": "stderr",
     "output_type": "stream",
     "text": [
      "/opt/conda/lib/python3.7/site-packages/transformers/tokenization_utils_base.py:2218: FutureWarning: The `pad_to_max_length` argument is deprecated and will be removed in a future version, use `padding=True` or `padding='longest'` to pad to the longest sequence in the batch, or use `padding='max_length'` to pad to a max length. In this case, you can give a specific length with `max_length` (e.g. `max_length=45`) or leave max_length to None to pad to the maximal input size of the model (e.g. 512 for Bert).\n",
      "  FutureWarning,\n",
      "/opt/conda/lib/python3.7/site-packages/transformers/tokenization_utils_base.py:2218: FutureWarning: The `pad_to_max_length` argument is deprecated and will be removed in a future version, use `padding=True` or `padding='longest'` to pad to the longest sequence in the batch, or use `padding='max_length'` to pad to a max length. In this case, you can give a specific length with `max_length` (e.g. `max_length=45`) or leave max_length to None to pad to the maximal input size of the model (e.g. 512 for Bert).\n",
      "  FutureWarning,\n",
      "/opt/conda/lib/python3.7/site-packages/transformers/tokenization_utils_base.py:2218: FutureWarning: The `pad_to_max_length` argument is deprecated and will be removed in a future version, use `padding=True` or `padding='longest'` to pad to the longest sequence in the batch, or use `padding='max_length'` to pad to a max length. In this case, you can give a specific length with `max_length` (e.g. `max_length=45`) or leave max_length to None to pad to the maximal input size of the model (e.g. 512 for Bert).\n",
      "  FutureWarning,\n",
      "/opt/conda/lib/python3.7/site-packages/transformers/tokenization_utils_base.py:2218: FutureWarning: The `pad_to_max_length` argument is deprecated and will be removed in a future version, use `padding=True` or `padding='longest'` to pad to the longest sequence in the batch, or use `padding='max_length'` to pad to a max length. In this case, you can give a specific length with `max_length` (e.g. `max_length=45`) or leave max_length to None to pad to the maximal input size of the model (e.g. 512 for Bert).\n",
      "  FutureWarning,\n"
     ]
    },
    {
     "data": {
      "text/plain": [
       "dict_keys(['review_text', 'input_ids', 'attention_mask', 'targets'])"
      ]
     },
     "execution_count": 29,
     "metadata": {},
     "output_type": "execute_result"
    }
   ],
   "source": [
    "data = next(iter(train_data_loader))\n",
    "data.keys()"
   ]
  },
  {
   "cell_type": "code",
   "execution_count": 30,
   "id": "8346912d",
   "metadata": {
    "execution": {
     "iopub.execute_input": "2022-01-12T10:54:07.934232Z",
     "iopub.status.busy": "2022-01-12T10:54:07.933469Z",
     "iopub.status.idle": "2022-01-12T10:54:07.936651Z",
     "shell.execute_reply": "2022-01-12T10:54:07.937115Z",
     "shell.execute_reply.started": "2022-01-12T10:23:17.930308Z"
    },
    "id": "xfe7g82MC7Wf",
    "papermill": {
     "duration": 0.070736,
     "end_time": "2022-01-12T10:54:07.937251",
     "exception": false,
     "start_time": "2022-01-12T10:54:07.866515",
     "status": "completed"
    },
    "tags": []
   },
   "outputs": [
    {
     "name": "stdout",
     "output_type": "stream",
     "text": [
      "torch.Size([30, 160])\n",
      "torch.Size([30, 160])\n",
      "torch.Size([30])\n"
     ]
    }
   ],
   "source": [
    "print(data['input_ids'].shape)\n",
    "print(data['attention_mask'].shape)\n",
    "print(data['targets'].shape)"
   ]
  },
  {
   "cell_type": "code",
   "execution_count": 31,
   "id": "bb49a1ca",
   "metadata": {
    "execution": {
     "iopub.execute_input": "2022-01-12T10:54:08.065024Z",
     "iopub.status.busy": "2022-01-12T10:54:08.064394Z",
     "iopub.status.idle": "2022-01-12T10:54:30.241586Z",
     "shell.execute_reply": "2022-01-12T10:54:30.242048Z",
     "shell.execute_reply.started": "2022-01-12T10:23:34.649193Z"
    },
    "id": "qp3aigobDEmj",
    "papermill": {
     "duration": 22.243856,
     "end_time": "2022-01-12T10:54:30.242214",
     "exception": false,
     "start_time": "2022-01-12T10:54:07.998358",
     "status": "completed"
    },
    "tags": []
   },
   "outputs": [
    {
     "data": {
      "application/vnd.jupyter.widget-view+json": {
       "model_id": "4dd37873d8bc43ce9b5c8658022f3f31",
       "version_major": 2,
       "version_minor": 0
      },
      "text/plain": [
       "Downloading:   0%|          | 0.00/416M [00:00<?, ?B/s]"
      ]
     },
     "metadata": {},
     "output_type": "display_data"
    },
    {
     "name": "stderr",
     "output_type": "stream",
     "text": [
      "Some weights of the model checkpoint at bert-base-cased were not used when initializing BertModel: ['cls.seq_relationship.weight', 'cls.predictions.transform.dense.weight', 'cls.predictions.bias', 'cls.predictions.transform.LayerNorm.bias', 'cls.seq_relationship.bias', 'cls.predictions.decoder.weight', 'cls.predictions.transform.LayerNorm.weight', 'cls.predictions.transform.dense.bias']\n",
      "- This IS expected if you are initializing BertModel from the checkpoint of a model trained on another task or with another architecture (e.g. initializing a BertForSequenceClassification model from a BertForPreTraining model).\n",
      "- This IS NOT expected if you are initializing BertModel from the checkpoint of a model that you expect to be exactly identical (initializing a BertForSequenceClassification model from a BertForSequenceClassification model).\n"
     ]
    }
   ],
   "source": [
    "bert_model = BertModel.from_pretrained(PRE_TRAINED_MODEL_NAME)\n"
   ]
  },
  {
   "cell_type": "code",
   "execution_count": 32,
   "id": "9fd972a9",
   "metadata": {
    "execution": {
     "iopub.execute_input": "2022-01-12T10:54:30.371796Z",
     "iopub.status.busy": "2022-01-12T10:54:30.371242Z",
     "iopub.status.idle": "2022-01-12T10:54:30.569906Z",
     "shell.execute_reply": "2022-01-12T10:54:30.570384Z",
     "shell.execute_reply.started": "2022-01-12T10:23:59.934515Z"
    },
    "id": "bCT2wu2IC-JL",
    "papermill": {
     "duration": 0.266672,
     "end_time": "2022-01-12T10:54:30.570543",
     "exception": false,
     "start_time": "2022-01-12T10:54:30.303871",
     "status": "completed"
    },
    "tags": []
   },
   "outputs": [],
   "source": [
    "last_hidden_state, pooled_output = bert_model(input_ids=encoding['input_ids'], attention_mask=encoding['attention_mask'])"
   ]
  },
  {
   "cell_type": "code",
   "execution_count": 33,
   "id": "19d36ae8",
   "metadata": {
    "execution": {
     "iopub.execute_input": "2022-01-12T10:54:30.698443Z",
     "iopub.status.busy": "2022-01-12T10:54:30.695401Z",
     "iopub.status.idle": "2022-01-12T10:54:30.701596Z",
     "shell.execute_reply": "2022-01-12T10:54:30.701203Z",
     "shell.execute_reply.started": "2022-01-12T10:24:01.584815Z"
    },
    "id": "xAknMjnCF0bT",
    "papermill": {
     "duration": 0.069314,
     "end_time": "2022-01-12T10:54:30.701737",
     "exception": false,
     "start_time": "2022-01-12T10:54:30.632423",
     "status": "completed"
    },
    "tags": []
   },
   "outputs": [
    {
     "data": {
      "text/plain": [
       "768"
      ]
     },
     "execution_count": 33,
     "metadata": {},
     "output_type": "execute_result"
    }
   ],
   "source": [
    "bert_model.config.hidden_size\n"
   ]
  },
  {
   "cell_type": "markdown",
   "id": "50a2ccce",
   "metadata": {
    "id": "Xn-ZiE6Hj6c1",
    "papermill": {
     "duration": 0.065634,
     "end_time": "2022-01-12T10:54:30.833042",
     "exception": false,
     "start_time": "2022-01-12T10:54:30.767408",
     "status": "completed"
    },
    "tags": []
   },
   "source": [
    "Our classifier delegates most of the heavy lifting to the BertModel. We use a dropout layer for some regularization and a fully-connected layer for our output. Note that we're returning the raw output of the last layer since that is required for the cross-entropy loss function in PyTorch to work.\n",
    "\n",
    "This should work like any other PyTorch model. Let's create an instance and move it to the GPU:"
   ]
  },
  {
   "cell_type": "code",
   "execution_count": 34,
   "id": "536d5fe0",
   "metadata": {
    "execution": {
     "iopub.execute_input": "2022-01-12T10:54:30.967707Z",
     "iopub.status.busy": "2022-01-12T10:54:30.966949Z",
     "iopub.status.idle": "2022-01-12T10:54:30.969152Z",
     "shell.execute_reply": "2022-01-12T10:54:30.969569Z",
     "shell.execute_reply.started": "2022-01-12T10:24:06.918265Z"
    },
    "id": "G0lKdTjEKLaL",
    "papermill": {
     "duration": 0.070898,
     "end_time": "2022-01-12T10:54:30.969730",
     "exception": false,
     "start_time": "2022-01-12T10:54:30.898832",
     "status": "completed"
    },
    "tags": []
   },
   "outputs": [],
   "source": [
    "class SentimentClassifier(nn.Module):\n",
    "\n",
    "  def __init__(self, n_classes):\n",
    "    super(SentimentClassifier, self).__init__()\n",
    "    self.bert = BertModel.from_pretrained(PRE_TRAINED_MODEL_NAME)\n",
    "    self.drop = nn.Dropout(p=0.4)\n",
    "    self.out = nn.Linear(self.bert.config.hidden_size, n_classes)\n",
    "  \n",
    "  def forward(self, input_ids, attention_mask):\n",
    "    _, pooled_output = self.bert(\n",
    "      input_ids=input_ids,\n",
    "      attention_mask=attention_mask,\n",
    "       return_dict=False\n",
    "    )\n",
    "    output = self.drop(pooled_output)\n",
    "    return self.out(output)\n"
   ]
  },
  {
   "cell_type": "code",
   "execution_count": 35,
   "id": "1d2d3477",
   "metadata": {
    "execution": {
     "iopub.execute_input": "2022-01-12T10:54:31.098278Z",
     "iopub.status.busy": "2022-01-12T10:54:31.097511Z",
     "iopub.status.idle": "2022-01-12T10:54:31.099471Z",
     "shell.execute_reply": "2022-01-12T10:54:31.099870Z",
     "shell.execute_reply.started": "2022-01-12T10:24:09.179811Z"
    },
    "id": "fLvDoDbHK1C-",
    "papermill": {
     "duration": 0.067876,
     "end_time": "2022-01-12T10:54:31.100006",
     "exception": false,
     "start_time": "2022-01-12T10:54:31.032130",
     "status": "completed"
    },
    "tags": []
   },
   "outputs": [],
   "source": [
    "class_names = [\"None\",\"Home & Kitchen\",\"Tools & Home Improvement\",\"Office Products\",\"Grocery & Gourmet Food\" ,\"Industrial & Scientific\" ,\"Electronics\"                   ]\n"
   ]
  },
  {
   "cell_type": "code",
   "execution_count": 36,
   "id": "9ec8da5c",
   "metadata": {
    "execution": {
     "iopub.execute_input": "2022-01-12T10:54:31.226498Z",
     "iopub.status.busy": "2022-01-12T10:54:31.225733Z",
     "iopub.status.idle": "2022-01-12T10:54:38.060923Z",
     "shell.execute_reply": "2022-01-12T10:54:38.060008Z",
     "shell.execute_reply.started": "2022-01-12T10:24:12.382233Z"
    },
    "id": "TFOKxj3YKWcO",
    "papermill": {
     "duration": 6.900001,
     "end_time": "2022-01-12T10:54:38.061075",
     "exception": false,
     "start_time": "2022-01-12T10:54:31.161074",
     "status": "completed"
    },
    "tags": []
   },
   "outputs": [
    {
     "name": "stderr",
     "output_type": "stream",
     "text": [
      "Some weights of the model checkpoint at bert-base-cased were not used when initializing BertModel: ['cls.seq_relationship.weight', 'cls.predictions.transform.dense.weight', 'cls.predictions.bias', 'cls.predictions.transform.LayerNorm.bias', 'cls.seq_relationship.bias', 'cls.predictions.decoder.weight', 'cls.predictions.transform.LayerNorm.weight', 'cls.predictions.transform.dense.bias']\n",
      "- This IS expected if you are initializing BertModel from the checkpoint of a model trained on another task or with another architecture (e.g. initializing a BertForSequenceClassification model from a BertForPreTraining model).\n",
      "- This IS NOT expected if you are initializing BertModel from the checkpoint of a model that you expect to be exactly identical (initializing a BertForSequenceClassification model from a BertForSequenceClassification model).\n"
     ]
    }
   ],
   "source": [
    "model = SentimentClassifier(len(class_names))\n",
    "model = model.to(device)"
   ]
  },
  {
   "cell_type": "code",
   "execution_count": 37,
   "id": "865d21b5",
   "metadata": {
    "execution": {
     "iopub.execute_input": "2022-01-12T10:54:38.191676Z",
     "iopub.status.busy": "2022-01-12T10:54:38.190761Z",
     "iopub.status.idle": "2022-01-12T10:54:38.194134Z",
     "shell.execute_reply": "2022-01-12T10:54:38.194535Z",
     "shell.execute_reply.started": "2022-01-12T10:24:20.557617Z"
    },
    "id": "Yb3t3pCwKiiF",
    "papermill": {
     "duration": 0.070198,
     "end_time": "2022-01-12T10:54:38.194690",
     "exception": false,
     "start_time": "2022-01-12T10:54:38.124492",
     "status": "completed"
    },
    "tags": []
   },
   "outputs": [
    {
     "name": "stdout",
     "output_type": "stream",
     "text": [
      "torch.Size([30, 160])\n",
      "torch.Size([30, 160])\n"
     ]
    }
   ],
   "source": [
    "input_ids = data['input_ids'].to(device)\n",
    "attention_mask = data['attention_mask'].to(device)\n",
    "\n",
    "print(input_ids.shape) # batch size x seq length\n",
    "print(attention_mask.shape) # batch size x seq lengt"
   ]
  },
  {
   "cell_type": "code",
   "execution_count": null,
   "id": "d0745909",
   "metadata": {
    "papermill": {
     "duration": 0.061676,
     "end_time": "2022-01-12T10:54:38.317705",
     "exception": false,
     "start_time": "2022-01-12T10:54:38.256029",
     "status": "completed"
    },
    "tags": []
   },
   "outputs": [],
   "source": []
  },
  {
   "cell_type": "code",
   "execution_count": 38,
   "id": "54744f84",
   "metadata": {
    "execution": {
     "iopub.execute_input": "2022-01-12T10:54:38.447917Z",
     "iopub.status.busy": "2022-01-12T10:54:38.447050Z",
     "iopub.status.idle": "2022-01-12T10:54:39.371894Z",
     "shell.execute_reply": "2022-01-12T10:54:39.371441Z",
     "shell.execute_reply.started": "2022-01-12T10:25:08.637184Z"
    },
    "id": "u0QBLIAwLyrU",
    "papermill": {
     "duration": 0.992116,
     "end_time": "2022-01-12T10:54:39.372024",
     "exception": false,
     "start_time": "2022-01-12T10:54:38.379908",
     "status": "completed"
    },
    "tags": []
   },
   "outputs": [
    {
     "data": {
      "text/plain": [
       "tensor([[0.0753, 0.1136, 0.0600, 0.2435, 0.1955, 0.1541, 0.1581],\n",
       "        [0.0891, 0.1363, 0.1694, 0.1847, 0.1395, 0.1483, 0.1327],\n",
       "        [0.1106, 0.0787, 0.1320, 0.2445, 0.1550, 0.1085, 0.1707],\n",
       "        [0.0594, 0.0962, 0.1162, 0.2180, 0.2622, 0.0810, 0.1670],\n",
       "        [0.1364, 0.0711, 0.0887, 0.2689, 0.1535, 0.1360, 0.1454],\n",
       "        [0.0663, 0.1174, 0.1272, 0.1973, 0.1876, 0.1120, 0.1922],\n",
       "        [0.0968, 0.0997, 0.1239, 0.3262, 0.1380, 0.1064, 0.1089],\n",
       "        [0.1043, 0.0572, 0.1585, 0.1716, 0.1625, 0.1326, 0.2132],\n",
       "        [0.1110, 0.0552, 0.1433, 0.3357, 0.1082, 0.0768, 0.1698],\n",
       "        [0.1554, 0.0679, 0.1437, 0.2707, 0.0983, 0.1157, 0.1483],\n",
       "        [0.0752, 0.0611, 0.0830, 0.5374, 0.1170, 0.0628, 0.0636],\n",
       "        [0.1018, 0.0467, 0.1259, 0.2274, 0.1168, 0.0858, 0.2957],\n",
       "        [0.0400, 0.0626, 0.0740, 0.5399, 0.1595, 0.0867, 0.0374],\n",
       "        [0.0765, 0.0625, 0.0975, 0.3489, 0.1054, 0.0830, 0.2261],\n",
       "        [0.1110, 0.0555, 0.1541, 0.3486, 0.0869, 0.1057, 0.1383],\n",
       "        [0.0643, 0.1071, 0.0741, 0.3305, 0.1312, 0.0970, 0.1958],\n",
       "        [0.0347, 0.0569, 0.1112, 0.4418, 0.1267, 0.0526, 0.1760],\n",
       "        [0.0769, 0.0758, 0.1365, 0.3529, 0.1303, 0.0556, 0.1721],\n",
       "        [0.0553, 0.0653, 0.1317, 0.3391, 0.2181, 0.0672, 0.1233],\n",
       "        [0.1220, 0.0581, 0.0869, 0.2451, 0.1135, 0.0607, 0.3137],\n",
       "        [0.1319, 0.0538, 0.1292, 0.3372, 0.0994, 0.1506, 0.0979],\n",
       "        [0.0851, 0.0553, 0.1060, 0.3122, 0.1578, 0.1373, 0.1462],\n",
       "        [0.1429, 0.0552, 0.0700, 0.3389, 0.2007, 0.0813, 0.1109],\n",
       "        [0.0417, 0.1114, 0.0889, 0.2977, 0.1867, 0.1315, 0.1421],\n",
       "        [0.0652, 0.0572, 0.0729, 0.4438, 0.1123, 0.1196, 0.1291],\n",
       "        [0.0913, 0.1355, 0.1775, 0.1589, 0.0895, 0.1555, 0.1919],\n",
       "        [0.0871, 0.0687, 0.1230, 0.2899, 0.1263, 0.1674, 0.1377],\n",
       "        [0.0700, 0.1292, 0.1290, 0.2737, 0.1149, 0.1128, 0.1704],\n",
       "        [0.1684, 0.0515, 0.0738, 0.3558, 0.1039, 0.1500, 0.0965],\n",
       "        [0.0999, 0.1202, 0.1229, 0.3491, 0.1623, 0.0766, 0.0689]],\n",
       "       device='cuda:0', grad_fn=<SoftmaxBackward>)"
      ]
     },
     "execution_count": 38,
     "metadata": {},
     "output_type": "execute_result"
    }
   ],
   "source": [
    "F.softmax(model(input_ids, attention_mask), dim=1)\n"
   ]
  },
  {
   "cell_type": "markdown",
   "id": "5b6adcd6",
   "metadata": {
    "id": "g_nffJZfiE_E",
    "papermill": {
     "duration": 0.061812,
     "end_time": "2022-01-12T10:54:39.497202",
     "exception": false,
     "start_time": "2022-01-12T10:54:39.435390",
     "status": "completed"
    },
    "tags": []
   },
   "source": [
    "Now we have to adjust the weight "
   ]
  },
  {
   "cell_type": "code",
   "execution_count": 39,
   "id": "7567eb2c",
   "metadata": {
    "execution": {
     "iopub.execute_input": "2022-01-12T10:54:39.632442Z",
     "iopub.status.busy": "2022-01-12T10:54:39.631710Z",
     "iopub.status.idle": "2022-01-12T10:54:39.635063Z",
     "shell.execute_reply": "2022-01-12T10:54:39.634569Z",
     "shell.execute_reply.started": "2022-01-12T10:25:16.956750Z"
    },
    "id": "wiulh16GWXE-",
    "papermill": {
     "duration": 0.073484,
     "end_time": "2022-01-12T10:54:39.635184",
     "exception": false,
     "start_time": "2022-01-12T10:54:39.561700",
     "status": "completed"
    },
    "tags": []
   },
   "outputs": [],
   "source": [
    "from sklearn.utils.class_weight import compute_class_weight\n",
    "import numpy as np\n",
    "class_weights = compute_class_weight(\n",
    "                                        class_weight = \"balanced\",\n",
    "                                        classes = np.unique(df_train['label']),\n",
    "                                        y = df_train['label']                                                    \n",
    "                                    )\n"
   ]
  },
  {
   "cell_type": "code",
   "execution_count": 40,
   "id": "95b84750",
   "metadata": {
    "execution": {
     "iopub.execute_input": "2022-01-12T10:54:39.765023Z",
     "iopub.status.busy": "2022-01-12T10:54:39.764232Z",
     "iopub.status.idle": "2022-01-12T10:54:39.767114Z",
     "shell.execute_reply": "2022-01-12T10:54:39.767517Z",
     "shell.execute_reply.started": "2022-01-12T10:25:24.291197Z"
    },
    "id": "WpeNU_VrXj5Y",
    "papermill": {
     "duration": 0.070297,
     "end_time": "2022-01-12T10:54:39.767645",
     "exception": false,
     "start_time": "2022-01-12T10:54:39.697348",
     "status": "completed"
    },
    "tags": []
   },
   "outputs": [
    {
     "name": "stdout",
     "output_type": "stream",
     "text": [
      "[0.74639197 0.96825397 1.04357362 1.0951358  1.08234759 1.09278824\n",
      " 1.09045073]\n"
     ]
    }
   ],
   "source": [
    "print(class_weights)\n"
   ]
  },
  {
   "cell_type": "code",
   "execution_count": 41,
   "id": "8af0266a",
   "metadata": {
    "execution": {
     "iopub.execute_input": "2022-01-12T10:54:39.910018Z",
     "iopub.status.busy": "2022-01-12T10:54:39.909288Z",
     "iopub.status.idle": "2022-01-12T10:54:39.911624Z",
     "shell.execute_reply": "2022-01-12T10:54:39.912177Z",
     "shell.execute_reply.started": "2022-01-12T10:25:28.958573Z"
    },
    "id": "CKDaPRplXzV0",
    "papermill": {
     "duration": 0.074876,
     "end_time": "2022-01-12T10:54:39.912326",
     "exception": false,
     "start_time": "2022-01-12T10:54:39.837450",
     "status": "completed"
    },
    "tags": []
   },
   "outputs": [],
   "source": [
    "weights= torch.tensor(class_weights,dtype=torch.float)\n",
    "weights = weights.to(device)"
   ]
  },
  {
   "cell_type": "markdown",
   "id": "cf39ed07",
   "metadata": {
    "id": "u2q9QKHCkNJv",
    "papermill": {
     "duration": 0.069552,
     "end_time": "2022-01-12T10:54:40.053276",
     "exception": false,
     "start_time": "2022-01-12T10:54:39.983724",
     "status": "completed"
    },
    "tags": []
   },
   "source": [
    "Training:- \n",
    "To reproduce the training procedure from the BERT paper, we'll use the AdamW optimizer provided by Hugging Face. It corrects weight decay, so it's similar to the original paper. We'll also use a linear scheduler with no warmup steps:"
   ]
  },
  {
   "cell_type": "code",
   "execution_count": 42,
   "id": "12f2a8e2",
   "metadata": {
    "execution": {
     "iopub.execute_input": "2022-01-12T10:54:40.194471Z",
     "iopub.status.busy": "2022-01-12T10:54:40.193291Z",
     "iopub.status.idle": "2022-01-12T10:54:40.201008Z",
     "shell.execute_reply": "2022-01-12T10:54:40.200512Z",
     "shell.execute_reply.started": "2022-01-12T10:25:33.707409Z"
    },
    "id": "q7CPevIRL3PP",
    "papermill": {
     "duration": 0.080969,
     "end_time": "2022-01-12T10:54:40.201126",
     "exception": false,
     "start_time": "2022-01-12T10:54:40.120157",
     "status": "completed"
    },
    "tags": []
   },
   "outputs": [],
   "source": [
    "EPOCHS = 4\n",
    "#learning rates: 3e-4, 1e-4, 5e-5, 3e-5.\n",
    "#2e-5\n",
    "optimizer = AdamW(model.parameters(), lr=2e-5, correct_bias=False)\n",
    "total_steps = len(train_data_loader) * EPOCHS\n",
    "\n",
    "scheduler = get_linear_schedule_with_warmup(\n",
    "  optimizer,\n",
    "  num_warmup_steps=0,\n",
    "  num_training_steps=total_steps\n",
    ")\n",
    "\n",
    "\n",
    "loss_fn = nn.CrossEntropyLoss(weight=weights).to(device)\n"
   ]
  },
  {
   "cell_type": "markdown",
   "id": "96a730b3",
   "metadata": {
    "id": "-b8JzwwNkfd0",
    "papermill": {
     "duration": 0.062855,
     "end_time": "2022-01-12T10:54:40.327050",
     "exception": false,
     "start_time": "2022-01-12T10:54:40.264195",
     "status": "completed"
    },
    "tags": []
   },
   "source": [
    "\n",
    "\n",
    "Batch size: 16, 32\n",
    "Learning rate (Adam): 5e-5, 3e-5, 2e-5\n",
    "Number of epochs: 2, 3, 4\n"
   ]
  },
  {
   "cell_type": "code",
   "execution_count": 43,
   "id": "c6f03cf0",
   "metadata": {
    "execution": {
     "iopub.execute_input": "2022-01-12T10:54:40.578738Z",
     "iopub.status.busy": "2022-01-12T10:54:40.577767Z",
     "iopub.status.idle": "2022-01-12T10:54:40.582921Z",
     "shell.execute_reply": "2022-01-12T10:54:40.583778Z",
     "shell.execute_reply.started": "2022-01-12T10:25:38.372487Z"
    },
    "id": "0QaQwluhM22z",
    "papermill": {
     "duration": 0.146461,
     "end_time": "2022-01-12T10:54:40.584021",
     "exception": false,
     "start_time": "2022-01-12T10:54:40.437560",
     "status": "completed"
    },
    "tags": []
   },
   "outputs": [],
   "source": [
    "def train_epoch(\n",
    "  model, \n",
    "  data_loader, \n",
    "  loss_fn, \n",
    "  optimizer, \n",
    "  device, \n",
    "  scheduler, \n",
    "  n_examples\n",
    "):\n",
    "  model = model.train()\n",
    "\n",
    "  losses = []\n",
    "  correct_predictions = 0\n",
    "  \n",
    "  for d in data_loader:\n",
    "    input_ids = d[\"input_ids\"].to(device)\n",
    "    attention_mask = d[\"attention_mask\"].to(device)\n",
    "    targets = d[\"targets\"].to(device)\n",
    "\n",
    "    outputs = model(\n",
    "      input_ids=input_ids,\n",
    "      attention_mask=attention_mask\n",
    "    )\n",
    "\n",
    "    _, preds = torch.max(outputs, dim=1)\n",
    "    loss = loss_fn(outputs, targets)\n",
    "    \n",
    "    l2_lambda = 0.001\n",
    "    l2_norm = sum(p.pow(2.0).sum() for p in model.parameters())\n",
    " \n",
    "    loss = loss + l2_lambda * l2_norm\n",
    "\n",
    "    correct_predictions += torch.sum(preds == targets)\n",
    "    losses.append(loss.item())\n",
    "\n",
    "    loss.backward()\n",
    "    nn.utils.clip_grad_norm_(model.parameters(), max_norm=1.0)\n",
    "    optimizer.step()\n",
    "    scheduler.step()\n",
    "    optimizer.zero_grad()\n",
    "\n",
    "  return correct_predictions.double() / n_examples, np.mean(losses)"
   ]
  },
  {
   "cell_type": "code",
   "execution_count": 44,
   "id": "d52335ef",
   "metadata": {
    "execution": {
     "iopub.execute_input": "2022-01-12T10:54:40.806392Z",
     "iopub.status.busy": "2022-01-12T10:54:40.805478Z",
     "iopub.status.idle": "2022-01-12T10:54:40.812496Z",
     "shell.execute_reply": "2022-01-12T10:54:40.813320Z",
     "shell.execute_reply.started": "2022-01-12T10:25:41.669604Z"
    },
    "id": "1TA_HIiQM9Gn",
    "papermill": {
     "duration": 0.122861,
     "end_time": "2022-01-12T10:54:40.813567",
     "exception": false,
     "start_time": "2022-01-12T10:54:40.690706",
     "status": "completed"
    },
    "tags": []
   },
   "outputs": [],
   "source": [
    "def eval_model(model, data_loader, loss_fn, device, n_examples):\n",
    "  model = model.eval()\n",
    "\n",
    "  losses = []\n",
    "  correct_predictions = 0\n",
    "\n",
    "  with torch.no_grad():\n",
    "    for d in data_loader:\n",
    "      input_ids = d[\"input_ids\"].to(device)\n",
    "      attention_mask = d[\"attention_mask\"].to(device)\n",
    "      targets = d[\"targets\"].to(device)\n",
    "\n",
    "      outputs = model(\n",
    "        input_ids=input_ids,\n",
    "        attention_mask=attention_mask\n",
    "      )\n",
    "      _, preds = torch.max(outputs, dim=1)\n",
    "\n",
    "      loss = loss_fn(outputs, targets)\n",
    "\n",
    "      correct_predictions += torch.sum(preds == targets)\n",
    "      losses.append(loss.item())\n",
    "\n",
    "  return correct_predictions.double() / n_examples, np.mean(losses)"
   ]
  },
  {
   "cell_type": "code",
   "execution_count": 45,
   "id": "56007d3d",
   "metadata": {
    "execution": {
     "iopub.execute_input": "2022-01-12T10:54:40.991067Z",
     "iopub.status.busy": "2022-01-12T10:54:40.990154Z",
     "iopub.status.idle": "2022-01-12T11:03:12.012138Z",
     "shell.execute_reply": "2022-01-12T11:03:12.013580Z",
     "shell.execute_reply.started": "2022-01-12T05:22:13.670034Z"
    },
    "id": "L6nwUsXcNAKR",
    "papermill": {
     "duration": 511.094489,
     "end_time": "2022-01-12T11:03:12.013852",
     "exception": false,
     "start_time": "2022-01-12T10:54:40.919363",
     "status": "completed"
    },
    "tags": []
   },
   "outputs": [
    {
     "name": "stdout",
     "output_type": "stream",
     "text": [
      "Epoch 1/4\n",
      "----------\n"
     ]
    },
    {
     "name": "stderr",
     "output_type": "stream",
     "text": [
      "/opt/conda/lib/python3.7/site-packages/transformers/tokenization_utils_base.py:2218: FutureWarning: The `pad_to_max_length` argument is deprecated and will be removed in a future version, use `padding=True` or `padding='longest'` to pad to the longest sequence in the batch, or use `padding='max_length'` to pad to a max length. In this case, you can give a specific length with `max_length` (e.g. `max_length=45`) or leave max_length to None to pad to the maximal input size of the model (e.g. 512 for Bert).\n",
      "  FutureWarning,\n",
      "/opt/conda/lib/python3.7/site-packages/transformers/tokenization_utils_base.py:2218: FutureWarning: The `pad_to_max_length` argument is deprecated and will be removed in a future version, use `padding=True` or `padding='longest'` to pad to the longest sequence in the batch, or use `padding='max_length'` to pad to a max length. In this case, you can give a specific length with `max_length` (e.g. `max_length=45`) or leave max_length to None to pad to the maximal input size of the model (e.g. 512 for Bert).\n",
      "  FutureWarning,\n",
      "/opt/conda/lib/python3.7/site-packages/transformers/tokenization_utils_base.py:2218: FutureWarning: The `pad_to_max_length` argument is deprecated and will be removed in a future version, use `padding=True` or `padding='longest'` to pad to the longest sequence in the batch, or use `padding='max_length'` to pad to a max length. In this case, you can give a specific length with `max_length` (e.g. `max_length=45`) or leave max_length to None to pad to the maximal input size of the model (e.g. 512 for Bert).\n",
      "  FutureWarning,\n",
      "/opt/conda/lib/python3.7/site-packages/transformers/tokenization_utils_base.py:2218: FutureWarning: The `pad_to_max_length` argument is deprecated and will be removed in a future version, use `padding=True` or `padding='longest'` to pad to the longest sequence in the batch, or use `padding='max_length'` to pad to a max length. In this case, you can give a specific length with `max_length` (e.g. `max_length=45`) or leave max_length to None to pad to the maximal input size of the model (e.g. 512 for Bert).\n",
      "  FutureWarning,\n"
     ]
    },
    {
     "name": "stdout",
     "output_type": "stream",
     "text": [
      "Train loss 153.93775959175173 accuracy 0.5289337256550372\n"
     ]
    },
    {
     "name": "stderr",
     "output_type": "stream",
     "text": [
      "/opt/conda/lib/python3.7/site-packages/transformers/tokenization_utils_base.py:2218: FutureWarning: The `pad_to_max_length` argument is deprecated and will be removed in a future version, use `padding=True` or `padding='longest'` to pad to the longest sequence in the batch, or use `padding='max_length'` to pad to a max length. In this case, you can give a specific length with `max_length` (e.g. `max_length=45`) or leave max_length to None to pad to the maximal input size of the model (e.g. 512 for Bert).\n",
      "  FutureWarning,\n",
      "/opt/conda/lib/python3.7/site-packages/transformers/tokenization_utils_base.py:2218: FutureWarning: The `pad_to_max_length` argument is deprecated and will be removed in a future version, use `padding=True` or `padding='longest'` to pad to the longest sequence in the batch, or use `padding='max_length'` to pad to a max length. In this case, you can give a specific length with `max_length` (e.g. `max_length=45`) or leave max_length to None to pad to the maximal input size of the model (e.g. 512 for Bert).\n",
      "  FutureWarning,\n",
      "/opt/conda/lib/python3.7/site-packages/transformers/tokenization_utils_base.py:2218: FutureWarning: The `pad_to_max_length` argument is deprecated and will be removed in a future version, use `padding=True` or `padding='longest'` to pad to the longest sequence in the batch, or use `padding='max_length'` to pad to a max length. In this case, you can give a specific length with `max_length` (e.g. `max_length=45`) or leave max_length to None to pad to the maximal input size of the model (e.g. 512 for Bert).\n",
      "  FutureWarning,\n",
      "/opt/conda/lib/python3.7/site-packages/transformers/tokenization_utils_base.py:2218: FutureWarning: The `pad_to_max_length` argument is deprecated and will be removed in a future version, use `padding=True` or `padding='longest'` to pad to the longest sequence in the batch, or use `padding='max_length'` to pad to a max length. In this case, you can give a specific length with `max_length` (e.g. `max_length=45`) or leave max_length to None to pad to the maximal input size of the model (e.g. 512 for Bert).\n",
      "  FutureWarning,\n"
     ]
    },
    {
     "name": "stdout",
     "output_type": "stream",
     "text": [
      "Val   loss 0.8123262109709721 accuracy 0.6605624591236102\n",
      "\n",
      "Epoch 2/4\n",
      "----------\n"
     ]
    },
    {
     "name": "stderr",
     "output_type": "stream",
     "text": [
      "/opt/conda/lib/python3.7/site-packages/transformers/tokenization_utils_base.py:2218: FutureWarning: The `pad_to_max_length` argument is deprecated and will be removed in a future version, use `padding=True` or `padding='longest'` to pad to the longest sequence in the batch, or use `padding='max_length'` to pad to a max length. In this case, you can give a specific length with `max_length` (e.g. `max_length=45`) or leave max_length to None to pad to the maximal input size of the model (e.g. 512 for Bert).\n",
      "  FutureWarning,\n",
      "/opt/conda/lib/python3.7/site-packages/transformers/tokenization_utils_base.py:2218: FutureWarning: The `pad_to_max_length` argument is deprecated and will be removed in a future version, use `padding=True` or `padding='longest'` to pad to the longest sequence in the batch, or use `padding='max_length'` to pad to a max length. In this case, you can give a specific length with `max_length` (e.g. `max_length=45`) or leave max_length to None to pad to the maximal input size of the model (e.g. 512 for Bert).\n",
      "  FutureWarning,\n",
      "/opt/conda/lib/python3.7/site-packages/transformers/tokenization_utils_base.py:2218: FutureWarning: The `pad_to_max_length` argument is deprecated and will be removed in a future version, use `padding=True` or `padding='longest'` to pad to the longest sequence in the batch, or use `padding='max_length'` to pad to a max length. In this case, you can give a specific length with `max_length` (e.g. `max_length=45`) or leave max_length to None to pad to the maximal input size of the model (e.g. 512 for Bert).\n",
      "  FutureWarning,\n",
      "/opt/conda/lib/python3.7/site-packages/transformers/tokenization_utils_base.py:2218: FutureWarning: The `pad_to_max_length` argument is deprecated and will be removed in a future version, use `padding=True` or `padding='longest'` to pad to the longest sequence in the batch, or use `padding='max_length'` to pad to a max length. In this case, you can give a specific length with `max_length` (e.g. `max_length=45`) or leave max_length to None to pad to the maximal input size of the model (e.g. 512 for Bert).\n",
      "  FutureWarning,\n"
     ]
    },
    {
     "name": "stdout",
     "output_type": "stream",
     "text": [
      "Train loss 133.56286598654356 accuracy 0.7257951520246603\n"
     ]
    },
    {
     "name": "stderr",
     "output_type": "stream",
     "text": [
      "/opt/conda/lib/python3.7/site-packages/transformers/tokenization_utils_base.py:2218: FutureWarning: The `pad_to_max_length` argument is deprecated and will be removed in a future version, use `padding=True` or `padding='longest'` to pad to the longest sequence in the batch, or use `padding='max_length'` to pad to a max length. In this case, you can give a specific length with `max_length` (e.g. `max_length=45`) or leave max_length to None to pad to the maximal input size of the model (e.g. 512 for Bert).\n",
      "  FutureWarning,\n",
      "/opt/conda/lib/python3.7/site-packages/transformers/tokenization_utils_base.py:2218: FutureWarning: The `pad_to_max_length` argument is deprecated and will be removed in a future version, use `padding=True` or `padding='longest'` to pad to the longest sequence in the batch, or use `padding='max_length'` to pad to a max length. In this case, you can give a specific length with `max_length` (e.g. `max_length=45`) or leave max_length to None to pad to the maximal input size of the model (e.g. 512 for Bert).\n",
      "  FutureWarning,\n",
      "/opt/conda/lib/python3.7/site-packages/transformers/tokenization_utils_base.py:2218: FutureWarning: The `pad_to_max_length` argument is deprecated and will be removed in a future version, use `padding=True` or `padding='longest'` to pad to the longest sequence in the batch, or use `padding='max_length'` to pad to a max length. In this case, you can give a specific length with `max_length` (e.g. `max_length=45`) or leave max_length to None to pad to the maximal input size of the model (e.g. 512 for Bert).\n",
      "  FutureWarning,\n",
      "/opt/conda/lib/python3.7/site-packages/transformers/tokenization_utils_base.py:2218: FutureWarning: The `pad_to_max_length` argument is deprecated and will be removed in a future version, use `padding=True` or `padding='longest'` to pad to the longest sequence in the batch, or use `padding='max_length'` to pad to a max length. In this case, you can give a specific length with `max_length` (e.g. `max_length=45`) or leave max_length to None to pad to the maximal input size of the model (e.g. 512 for Bert).\n",
      "  FutureWarning,\n"
     ]
    },
    {
     "name": "stdout",
     "output_type": "stream",
     "text": [
      "Val   loss 0.7310240847222945 accuracy 0.6945716154349248\n",
      "\n",
      "Epoch 3/4\n",
      "----------\n"
     ]
    },
    {
     "name": "stderr",
     "output_type": "stream",
     "text": [
      "/opt/conda/lib/python3.7/site-packages/transformers/tokenization_utils_base.py:2218: FutureWarning: The `pad_to_max_length` argument is deprecated and will be removed in a future version, use `padding=True` or `padding='longest'` to pad to the longest sequence in the batch, or use `padding='max_length'` to pad to a max length. In this case, you can give a specific length with `max_length` (e.g. `max_length=45`) or leave max_length to None to pad to the maximal input size of the model (e.g. 512 for Bert).\n",
      "  FutureWarning,\n",
      "/opt/conda/lib/python3.7/site-packages/transformers/tokenization_utils_base.py:2218: FutureWarning: The `pad_to_max_length` argument is deprecated and will be removed in a future version, use `padding=True` or `padding='longest'` to pad to the longest sequence in the batch, or use `padding='max_length'` to pad to a max length. In this case, you can give a specific length with `max_length` (e.g. `max_length=45`) or leave max_length to None to pad to the maximal input size of the model (e.g. 512 for Bert).\n",
      "  FutureWarning,\n",
      "/opt/conda/lib/python3.7/site-packages/transformers/tokenization_utils_base.py:2218: FutureWarning: The `pad_to_max_length` argument is deprecated and will be removed in a future version, use `padding=True` or `padding='longest'` to pad to the longest sequence in the batch, or use `padding='max_length'` to pad to a max length. In this case, you can give a specific length with `max_length` (e.g. `max_length=45`) or leave max_length to None to pad to the maximal input size of the model (e.g. 512 for Bert).\n",
      "  FutureWarning,\n",
      "/opt/conda/lib/python3.7/site-packages/transformers/tokenization_utils_base.py:2218: FutureWarning: The `pad_to_max_length` argument is deprecated and will be removed in a future version, use `padding=True` or `padding='longest'` to pad to the longest sequence in the batch, or use `padding='max_length'` to pad to a max length. In this case, you can give a specific length with `max_length` (e.g. `max_length=45`) or leave max_length to None to pad to the maximal input size of the model (e.g. 512 for Bert).\n",
      "  FutureWarning,\n"
     ]
    },
    {
     "name": "stdout",
     "output_type": "stream",
     "text": [
      "Train loss 124.62221873307429 accuracy 0.7961328289197142\n"
     ]
    },
    {
     "name": "stderr",
     "output_type": "stream",
     "text": [
      "/opt/conda/lib/python3.7/site-packages/transformers/tokenization_utils_base.py:2218: FutureWarning: The `pad_to_max_length` argument is deprecated and will be removed in a future version, use `padding=True` or `padding='longest'` to pad to the longest sequence in the batch, or use `padding='max_length'` to pad to a max length. In this case, you can give a specific length with `max_length` (e.g. `max_length=45`) or leave max_length to None to pad to the maximal input size of the model (e.g. 512 for Bert).\n",
      "  FutureWarning,\n",
      "/opt/conda/lib/python3.7/site-packages/transformers/tokenization_utils_base.py:2218: FutureWarning: The `pad_to_max_length` argument is deprecated and will be removed in a future version, use `padding=True` or `padding='longest'` to pad to the longest sequence in the batch, or use `padding='max_length'` to pad to a max length. In this case, you can give a specific length with `max_length` (e.g. `max_length=45`) or leave max_length to None to pad to the maximal input size of the model (e.g. 512 for Bert).\n",
      "  FutureWarning,\n",
      "/opt/conda/lib/python3.7/site-packages/transformers/tokenization_utils_base.py:2218: FutureWarning: The `pad_to_max_length` argument is deprecated and will be removed in a future version, use `padding=True` or `padding='longest'` to pad to the longest sequence in the batch, or use `padding='max_length'` to pad to a max length. In this case, you can give a specific length with `max_length` (e.g. `max_length=45`) or leave max_length to None to pad to the maximal input size of the model (e.g. 512 for Bert).\n",
      "  FutureWarning,\n",
      "/opt/conda/lib/python3.7/site-packages/transformers/tokenization_utils_base.py:2218: FutureWarning: The `pad_to_max_length` argument is deprecated and will be removed in a future version, use `padding=True` or `padding='longest'` to pad to the longest sequence in the batch, or use `padding='max_length'` to pad to a max length. In this case, you can give a specific length with `max_length` (e.g. `max_length=45`) or leave max_length to None to pad to the maximal input size of the model (e.g. 512 for Bert).\n",
      "  FutureWarning,\n"
     ]
    },
    {
     "name": "stdout",
     "output_type": "stream",
     "text": [
      "Val   loss 0.7128999911102594 accuracy 0.7122302158273381\n",
      "\n",
      "Epoch 4/4\n",
      "----------\n"
     ]
    },
    {
     "name": "stderr",
     "output_type": "stream",
     "text": [
      "/opt/conda/lib/python3.7/site-packages/transformers/tokenization_utils_base.py:2218: FutureWarning: The `pad_to_max_length` argument is deprecated and will be removed in a future version, use `padding=True` or `padding='longest'` to pad to the longest sequence in the batch, or use `padding='max_length'` to pad to a max length. In this case, you can give a specific length with `max_length` (e.g. `max_length=45`) or leave max_length to None to pad to the maximal input size of the model (e.g. 512 for Bert).\n",
      "  FutureWarning,\n",
      "/opt/conda/lib/python3.7/site-packages/transformers/tokenization_utils_base.py:2218: FutureWarning: The `pad_to_max_length` argument is deprecated and will be removed in a future version, use `padding=True` or `padding='longest'` to pad to the longest sequence in the batch, or use `padding='max_length'` to pad to a max length. In this case, you can give a specific length with `max_length` (e.g. `max_length=45`) or leave max_length to None to pad to the maximal input size of the model (e.g. 512 for Bert).\n",
      "  FutureWarning,\n",
      "/opt/conda/lib/python3.7/site-packages/transformers/tokenization_utils_base.py:2218: FutureWarning: The `pad_to_max_length` argument is deprecated and will be removed in a future version, use `padding=True` or `padding='longest'` to pad to the longest sequence in the batch, or use `padding='max_length'` to pad to a max length. In this case, you can give a specific length with `max_length` (e.g. `max_length=45`) or leave max_length to None to pad to the maximal input size of the model (e.g. 512 for Bert).\n",
      "  FutureWarning,\n",
      "/opt/conda/lib/python3.7/site-packages/transformers/tokenization_utils_base.py:2218: FutureWarning: The `pad_to_max_length` argument is deprecated and will be removed in a future version, use `padding=True` or `padding='longest'` to pad to the longest sequence in the batch, or use `padding='max_length'` to pad to a max length. In this case, you can give a specific length with `max_length` (e.g. `max_length=45`) or leave max_length to None to pad to the maximal input size of the model (e.g. 512 for Bert).\n",
      "  FutureWarning,\n"
     ]
    },
    {
     "name": "stdout",
     "output_type": "stream",
     "text": [
      "Train loss 120.68012263193852 accuracy 0.8392882163373967\n"
     ]
    },
    {
     "name": "stderr",
     "output_type": "stream",
     "text": [
      "/opt/conda/lib/python3.7/site-packages/transformers/tokenization_utils_base.py:2218: FutureWarning: The `pad_to_max_length` argument is deprecated and will be removed in a future version, use `padding=True` or `padding='longest'` to pad to the longest sequence in the batch, or use `padding='max_length'` to pad to a max length. In this case, you can give a specific length with `max_length` (e.g. `max_length=45`) or leave max_length to None to pad to the maximal input size of the model (e.g. 512 for Bert).\n",
      "  FutureWarning,\n",
      "/opt/conda/lib/python3.7/site-packages/transformers/tokenization_utils_base.py:2218: FutureWarning: The `pad_to_max_length` argument is deprecated and will be removed in a future version, use `padding=True` or `padding='longest'` to pad to the longest sequence in the batch, or use `padding='max_length'` to pad to a max length. In this case, you can give a specific length with `max_length` (e.g. `max_length=45`) or leave max_length to None to pad to the maximal input size of the model (e.g. 512 for Bert).\n",
      "  FutureWarning,\n",
      "/opt/conda/lib/python3.7/site-packages/transformers/tokenization_utils_base.py:2218: FutureWarning: The `pad_to_max_length` argument is deprecated and will be removed in a future version, use `padding=True` or `padding='longest'` to pad to the longest sequence in the batch, or use `padding='max_length'` to pad to a max length. In this case, you can give a specific length with `max_length` (e.g. `max_length=45`) or leave max_length to None to pad to the maximal input size of the model (e.g. 512 for Bert).\n",
      "  FutureWarning,\n",
      "/opt/conda/lib/python3.7/site-packages/transformers/tokenization_utils_base.py:2218: FutureWarning: The `pad_to_max_length` argument is deprecated and will be removed in a future version, use `padding=True` or `padding='longest'` to pad to the longest sequence in the batch, or use `padding='max_length'` to pad to a max length. In this case, you can give a specific length with `max_length` (e.g. `max_length=45`) or leave max_length to None to pad to the maximal input size of the model (e.g. 512 for Bert).\n",
      "  FutureWarning,\n"
     ]
    },
    {
     "name": "stdout",
     "output_type": "stream",
     "text": [
      "Val   loss 0.7156944976133459 accuracy 0.7259646827992152\n",
      "\n",
      "CPU times: user 8min 18s, sys: 4.4 s, total: 8min 22s\n",
      "Wall time: 8min 31s\n"
     ]
    }
   ],
   "source": [
    "%%time\n",
    "\n",
    "history = defaultdict(list)\n",
    "best_accuracy = 0\n",
    "\n",
    "for epoch in range(EPOCHS):\n",
    "\n",
    "  print(f'Epoch {epoch + 1}/{EPOCHS}')\n",
    "  print('-' * 10)\n",
    "\n",
    "  train_acc, train_loss = train_epoch(\n",
    "    model,\n",
    "    train_data_loader,    \n",
    "    loss_fn, \n",
    "    optimizer, \n",
    "    device, \n",
    "    scheduler, \n",
    "    len(df_train)\n",
    "  )\n",
    "\n",
    "  print(f'Train loss {train_loss} accuracy {train_acc}')\n",
    "\n",
    "  val_acc, val_loss = eval_model(\n",
    "    model,\n",
    "    val_data_loader,\n",
    "    loss_fn, \n",
    "    device, \n",
    "    len(df_val)\n",
    "  )\n",
    "\n",
    "  print(f'Val   loss {val_loss} accuracy {val_acc}')\n",
    "  print()\n",
    "\n",
    "  history['train_acc'].append(train_acc)\n",
    "  history['train_loss'].append(train_loss)\n",
    "  history['val_acc'].append(val_acc)\n",
    "  history['val_loss'].append(val_loss)\n",
    "\n",
    "  if val_acc > best_accuracy:\n",
    "    torch.save(model.state_dict(), 'best_model_state.bin')\n",
    "    best_accuracy = val_acc"
   ]
  },
  {
   "cell_type": "code",
   "execution_count": 46,
   "id": "4c99f16a",
   "metadata": {
    "execution": {
     "iopub.execute_input": "2022-01-12T11:03:12.199607Z",
     "iopub.status.busy": "2022-01-12T11:03:12.187793Z",
     "iopub.status.idle": "2022-01-12T11:03:12.579948Z",
     "shell.execute_reply": "2022-01-12T11:03:12.580368Z",
     "shell.execute_reply.started": "2022-01-12T06:12:42.162944Z"
    },
    "id": "3quM91McNECC",
    "papermill": {
     "duration": 0.488646,
     "end_time": "2022-01-12T11:03:12.580520",
     "exception": false,
     "start_time": "2022-01-12T11:03:12.091874",
     "status": "completed"
    },
    "tags": []
   },
   "outputs": [
    {
     "data": {
      "image/png": "[encoded data removed]",
      "text/plain": [
       "<Figure size 864x576 with 1 Axes>"
      ]
     },
     "metadata": {
      "image/png": {
       "height": 506,
       "width": 732
      }
     },
     "output_type": "display_data"
    }
   ],
   "source": [
    "plt.plot(history['train_acc'], label='train accuracy')\n",
    "plt.plot(history['val_acc'], label='validation accuracy')\n",
    "\n",
    "plt.title('Training history')\n",
    "plt.ylabel('Accuracy')\n",
    "plt.xlabel('Epoch')\n",
    "plt.legend()\n",
    "plt.ylim([0, 1]);"
   ]
  },
  {
   "cell_type": "code",
   "execution_count": 47,
   "id": "eff4637a",
   "metadata": {
    "execution": {
     "iopub.execute_input": "2022-01-12T11:03:12.736724Z",
     "iopub.status.busy": "2022-01-12T11:03:12.736089Z",
     "iopub.status.idle": "2022-01-12T11:03:21.892529Z",
     "shell.execute_reply": "2022-01-12T11:03:21.892957Z",
     "shell.execute_reply.started": "2022-01-12T10:25:51.974095Z"
    },
    "id": "iJBJ-bhqsXF4",
    "papermill": {
     "duration": 9.236086,
     "end_time": "2022-01-12T11:03:21.893117",
     "exception": false,
     "start_time": "2022-01-12T11:03:12.657031",
     "status": "completed"
    },
    "tags": []
   },
   "outputs": [
    {
     "data": {
      "text/plain": [
       "<All keys matched successfully>"
      ]
     },
     "execution_count": 47,
     "metadata": {},
     "output_type": "execute_result"
    }
   ],
   "source": [
    "path = '../input/pertainedmodel/best_model_state.bin'\n",
    "model.load_state_dict(torch.load(path))"
   ]
  },
  {
   "cell_type": "code",
   "execution_count": 48,
   "id": "d9e42bf1",
   "metadata": {
    "execution": {
     "iopub.execute_input": "2022-01-12T11:03:22.052489Z",
     "iopub.status.busy": "2022-01-12T11:03:22.051980Z",
     "iopub.status.idle": "2022-01-12T11:03:30.575209Z",
     "shell.execute_reply": "2022-01-12T11:03:30.574765Z",
     "shell.execute_reply.started": "2022-01-12T10:26:21.634194Z"
    },
    "id": "rILveL-JAsYf",
    "papermill": {
     "duration": 8.605173,
     "end_time": "2022-01-12T11:03:30.575335",
     "exception": false,
     "start_time": "2022-01-12T11:03:21.970162",
     "status": "completed"
    },
    "tags": []
   },
   "outputs": [
    {
     "name": "stderr",
     "output_type": "stream",
     "text": [
      "/opt/conda/lib/python3.7/site-packages/transformers/tokenization_utils_base.py:2218: FutureWarning: The `pad_to_max_length` argument is deprecated and will be removed in a future version, use `padding=True` or `padding='longest'` to pad to the longest sequence in the batch, or use `padding='max_length'` to pad to a max length. In this case, you can give a specific length with `max_length` (e.g. `max_length=45`) or leave max_length to None to pad to the maximal input size of the model (e.g. 512 for Bert).\n",
      "  FutureWarning,\n",
      "/opt/conda/lib/python3.7/site-packages/transformers/tokenization_utils_base.py:2218: FutureWarning: The `pad_to_max_length` argument is deprecated and will be removed in a future version, use `padding=True` or `padding='longest'` to pad to the longest sequence in the batch, or use `padding='max_length'` to pad to a max length. In this case, you can give a specific length with `max_length` (e.g. `max_length=45`) or leave max_length to None to pad to the maximal input size of the model (e.g. 512 for Bert).\n",
      "  FutureWarning,\n",
      "/opt/conda/lib/python3.7/site-packages/transformers/tokenization_utils_base.py:2218: FutureWarning: The `pad_to_max_length` argument is deprecated and will be removed in a future version, use `padding=True` or `padding='longest'` to pad to the longest sequence in the batch, or use `padding='max_length'` to pad to a max length. In this case, you can give a specific length with `max_length` (e.g. `max_length=45`) or leave max_length to None to pad to the maximal input size of the model (e.g. 512 for Bert).\n",
      "  FutureWarning,\n",
      "/opt/conda/lib/python3.7/site-packages/transformers/tokenization_utils_base.py:2218: FutureWarning: The `pad_to_max_length` argument is deprecated and will be removed in a future version, use `padding=True` or `padding='longest'` to pad to the longest sequence in the batch, or use `padding='max_length'` to pad to a max length. In this case, you can give a specific length with `max_length` (e.g. `max_length=45`) or leave max_length to None to pad to the maximal input size of the model (e.g. 512 for Bert).\n",
      "  FutureWarning,\n"
     ]
    },
    {
     "data": {
      "text/plain": [
       "0.8993464052287581"
      ]
     },
     "execution_count": 48,
     "metadata": {},
     "output_type": "execute_result"
    }
   ],
   "source": [
    "test_acc, _ = eval_model(\n",
    "  model,\n",
    "  test_data_loader,\n",
    "  loss_fn,\n",
    "  device,\n",
    "  len(df_test)\n",
    ")\n",
    "\n",
    "test_acc.item()"
   ]
  },
  {
   "cell_type": "code",
   "execution_count": 49,
   "id": "a440248f",
   "metadata": {
    "execution": {
     "iopub.execute_input": "2022-01-12T11:03:30.742914Z",
     "iopub.status.busy": "2022-01-12T11:03:30.741255Z",
     "iopub.status.idle": "2022-01-12T11:03:30.743487Z",
     "shell.execute_reply": "2022-01-12T11:03:30.743922Z",
     "shell.execute_reply.started": "2022-01-12T10:26:30.311485Z"
    },
    "id": "wE3TkFw0AyEa",
    "papermill": {
     "duration": 0.089744,
     "end_time": "2022-01-12T11:03:30.744063",
     "exception": false,
     "start_time": "2022-01-12T11:03:30.654319",
     "status": "completed"
    },
    "tags": []
   },
   "outputs": [],
   "source": [
    "def get_predictions(model, data_loader):\n",
    "  model = model.eval()\n",
    "  \n",
    "  review_texts = []\n",
    "  predictions = []\n",
    "  prediction_probs = []\n",
    "  real_values = []\n",
    "\n",
    "  with torch.no_grad():\n",
    "    for d in data_loader:\n",
    "\n",
    "      texts = d[\"review_text\"]\n",
    "      input_ids = d[\"input_ids\"].to(device)\n",
    "      attention_mask = d[\"attention_mask\"].to(device)\n",
    "      targets = d[\"targets\"].to(device)\n",
    "\n",
    "      outputs = model(\n",
    "        input_ids=input_ids,\n",
    "        attention_mask=attention_mask\n",
    "      )\n",
    "      _, preds = torch.max(outputs, dim=1)\n",
    "\n",
    "      probs = F.softmax(outputs, dim=1)\n",
    "\n",
    "      review_texts.extend(texts)\n",
    "      predictions.extend(preds)\n",
    "      prediction_probs.extend(probs)\n",
    "      real_values.extend(targets)\n",
    "\n",
    "  predictions = torch.stack(predictions).cpu()\n",
    "  prediction_probs = torch.stack(prediction_probs).cpu()\n",
    "  real_values = torch.stack(real_values).cpu()\n",
    "  return review_texts, predictions, prediction_probs, real_values"
   ]
  },
  {
   "cell_type": "code",
   "execution_count": 50,
   "id": "97e2c31f",
   "metadata": {
    "execution": {
     "iopub.execute_input": "2022-01-12T11:03:30.903866Z",
     "iopub.status.busy": "2022-01-12T11:03:30.903008Z",
     "iopub.status.idle": "2022-01-12T11:03:39.189535Z",
     "shell.execute_reply": "2022-01-12T11:03:39.189007Z",
     "shell.execute_reply.started": "2022-01-12T10:26:30.973351Z"
    },
    "id": "SxPKkejsA67P",
    "papermill": {
     "duration": 8.368448,
     "end_time": "2022-01-12T11:03:39.189705",
     "exception": false,
     "start_time": "2022-01-12T11:03:30.821257",
     "status": "completed"
    },
    "tags": []
   },
   "outputs": [
    {
     "name": "stderr",
     "output_type": "stream",
     "text": [
      "/opt/conda/lib/python3.7/site-packages/transformers/tokenization_utils_base.py:2218: FutureWarning: The `pad_to_max_length` argument is deprecated and will be removed in a future version, use `padding=True` or `padding='longest'` to pad to the longest sequence in the batch, or use `padding='max_length'` to pad to a max length. In this case, you can give a specific length with `max_length` (e.g. `max_length=45`) or leave max_length to None to pad to the maximal input size of the model (e.g. 512 for Bert).\n",
      "  FutureWarning,\n",
      "/opt/conda/lib/python3.7/site-packages/transformers/tokenization_utils_base.py:2218: FutureWarning: The `pad_to_max_length` argument is deprecated and will be removed in a future version, use `padding=True` or `padding='longest'` to pad to the longest sequence in the batch, or use `padding='max_length'` to pad to a max length. In this case, you can give a specific length with `max_length` (e.g. `max_length=45`) or leave max_length to None to pad to the maximal input size of the model (e.g. 512 for Bert).\n",
      "  FutureWarning,\n",
      "/opt/conda/lib/python3.7/site-packages/transformers/tokenization_utils_base.py:2218: FutureWarning: The `pad_to_max_length` argument is deprecated and will be removed in a future version, use `padding=True` or `padding='longest'` to pad to the longest sequence in the batch, or use `padding='max_length'` to pad to a max length. In this case, you can give a specific length with `max_length` (e.g. `max_length=45`) or leave max_length to None to pad to the maximal input size of the model (e.g. 512 for Bert).\n",
      "  FutureWarning,\n",
      "/opt/conda/lib/python3.7/site-packages/transformers/tokenization_utils_base.py:2218: FutureWarning: The `pad_to_max_length` argument is deprecated and will be removed in a future version, use `padding=True` or `padding='longest'` to pad to the longest sequence in the batch, or use `padding='max_length'` to pad to a max length. In this case, you can give a specific length with `max_length` (e.g. `max_length=45`) or leave max_length to None to pad to the maximal input size of the model (e.g. 512 for Bert).\n",
      "  FutureWarning,\n"
     ]
    }
   ],
   "source": [
    "y_review_texts, y_pred, y_pred_probs, y_test = get_predictions(\n",
    "  model,\n",
    "  test_data_loader\n",
    ")"
   ]
  },
  {
   "cell_type": "code",
   "execution_count": 51,
   "id": "6c12ac8e",
   "metadata": {
    "execution": {
     "iopub.execute_input": "2022-01-12T11:03:39.354931Z",
     "iopub.status.busy": "2022-01-12T11:03:39.354082Z",
     "iopub.status.idle": "2022-01-12T11:03:39.364556Z",
     "shell.execute_reply": "2022-01-12T11:03:39.365147Z",
     "shell.execute_reply.started": "2022-01-12T10:26:39.312943Z"
    },
    "id": "xvTZft_yBBkE",
    "papermill": {
     "duration": 0.094329,
     "end_time": "2022-01-12T11:03:39.365324",
     "exception": false,
     "start_time": "2022-01-12T11:03:39.270995",
     "status": "completed"
    },
    "tags": []
   },
   "outputs": [
    {
     "name": "stdout",
     "output_type": "stream",
     "text": [
      "                          precision    recall  f1-score   support\n",
      "\n",
      "                    None       0.78      0.74      0.76       303\n",
      "          Home & Kitchen       0.83      0.91      0.87       238\n",
      "Tools & Home Improvement       0.94      0.92      0.93       222\n",
      "         Office Products       0.97      0.94      0.95       209\n",
      "  Grocery & Gourmet Food       0.90      0.97      0.93       185\n",
      " Industrial & Scientific       0.99      0.94      0.96       182\n",
      "             Electronics       0.97      0.97      0.97       191\n",
      "\n",
      "                accuracy                           0.90      1530\n",
      "               macro avg       0.91      0.91      0.91      1530\n",
      "            weighted avg       0.90      0.90      0.90      1530\n",
      "\n"
     ]
    }
   ],
   "source": [
    "print(classification_report(y_test, y_pred, target_names=class_names))\n"
   ]
  },
  {
   "cell_type": "code",
   "execution_count": 52,
   "id": "97974eb1",
   "metadata": {
    "execution": {
     "iopub.execute_input": "2022-01-12T11:03:39.530981Z",
     "iopub.status.busy": "2022-01-12T11:03:39.530179Z",
     "iopub.status.idle": "2022-01-12T11:03:40.258447Z",
     "shell.execute_reply": "2022-01-12T11:03:40.258878Z",
     "shell.execute_reply.started": "2022-01-12T08:52:50.494145Z"
    },
    "id": "57IlCHrHBLsV",
    "papermill": {
     "duration": 0.8145,
     "end_time": "2022-01-12T11:03:40.259027",
     "exception": false,
     "start_time": "2022-01-12T11:03:39.444527",
     "status": "completed"
    },
    "tags": []
   },
   "outputs": [
    {
     "data": {
      "image/png": "[encoded data removed]",
      "text/plain": [
       "<Figure size 864x576 with 2 Axes>"
      ]
     },
     "metadata": {
      "image/png": {
       "height": 579,
       "width": 850
      }
     },
     "output_type": "display_data"
    }
   ],
   "source": [
    "def show_confusion_matrix(confusion_matrix):\n",
    "  hmap = sns.heatmap(confusion_matrix, annot=True, fmt=\"d\", cmap=\"Blues\")\n",
    "  hmap.yaxis.set_ticklabels(hmap.yaxis.get_ticklabels(), rotation=0, ha='right')\n",
    "  hmap.xaxis.set_ticklabels(hmap.xaxis.get_ticklabels(), rotation=30, ha='right')\n",
    "  plt.ylabel('True sentiment')\n",
    "  plt.xlabel('Predicted sentiment');\n",
    "\n",
    "cm = confusion_matrix(y_test, y_pred)\n",
    "df_cm = pd.DataFrame(cm, index=class_names, columns=class_names)\n",
    "show_confusion_matrix(df_cm)\n"
   ]
  },
  {
   "cell_type": "markdown",
   "id": "1811428a",
   "metadata": {
    "papermill": {
     "duration": 0.083006,
     "end_time": "2022-01-12T11:03:40.426098",
     "exception": false,
     "start_time": "2022-01-12T11:03:40.343092",
     "status": "completed"
    },
    "tags": []
   },
   "source": []
  },
  {
   "cell_type": "markdown",
   "id": "b87914db",
   "metadata": {
    "papermill": {
     "duration": 0.083361,
     "end_time": "2022-01-12T11:03:40.592599",
     "exception": false,
     "start_time": "2022-01-12T11:03:40.509238",
     "status": "completed"
    },
    "tags": []
   },
   "source": []
  },
  {
   "cell_type": "code",
   "execution_count": 53,
   "id": "6efe37b8",
   "metadata": {
    "execution": {
     "iopub.execute_input": "2022-01-12T11:03:40.764764Z",
     "iopub.status.busy": "2022-01-12T11:03:40.764208Z",
     "iopub.status.idle": "2022-01-12T11:03:40.791423Z",
     "shell.execute_reply": "2022-01-12T11:03:40.791872Z",
     "shell.execute_reply.started": "2022-01-12T10:26:45.414368Z"
    },
    "papermill": {
     "duration": 0.115406,
     "end_time": "2022-01-12T11:03:40.792020",
     "exception": false,
     "start_time": "2022-01-12T11:03:40.676614",
     "status": "completed"
    },
    "tags": []
   },
   "outputs": [
    {
     "data": {
      "text/html": [
       "<div>\n",
       "<style scoped>\n",
       "    .dataframe tbody tr th:only-of-type {\n",
       "        vertical-align: middle;\n",
       "    }\n",
       "\n",
       "    .dataframe tbody tr th {\n",
       "        vertical-align: top;\n",
       "    }\n",
       "\n",
       "    .dataframe thead th {\n",
       "        text-align: right;\n",
       "    }\n",
       "</style>\n",
       "<table border=\"1\" class=\"dataframe\">\n",
       "  <thead>\n",
       "    <tr style=\"text-align: right;\">\n",
       "      <th></th>\n",
       "      <th>title</th>\n",
       "      <th>category</th>\n",
       "    </tr>\n",
       "  </thead>\n",
       "  <tbody>\n",
       "    <tr>\n",
       "      <th>0</th>\n",
       "      <td>Pom Pom Hair Band Rabbit Light Grey Decorative...</td>\n",
       "      <td>NaN</td>\n",
       "    </tr>\n",
       "    <tr>\n",
       "      <th>1</th>\n",
       "      <td>Mariposa Golf Ball Napkin Weight</td>\n",
       "      <td>NaN</td>\n",
       "    </tr>\n",
       "    <tr>\n",
       "      <th>2</th>\n",
       "      <td>Mediterranean Snack Food Roasted Garlic Hummuz...</td>\n",
       "      <td>NaN</td>\n",
       "    </tr>\n",
       "    <tr>\n",
       "      <th>3</th>\n",
       "      <td>John Deere 0071750GX22269 Genuine Original Equ...</td>\n",
       "      <td>NaN</td>\n",
       "    </tr>\n",
       "    <tr>\n",
       "      <th>4</th>\n",
       "      <td>Protech Wood Cleanr Gl,PERFORMANCE COATINGS IN...</td>\n",
       "      <td>NaN</td>\n",
       "    </tr>\n",
       "    <tr>\n",
       "      <th>...</th>\n",
       "      <td>...</td>\n",
       "      <td>...</td>\n",
       "    </tr>\n",
       "    <tr>\n",
       "      <th>10089</th>\n",
       "      <td>Flexible Coupling - 3.0&amp;quot; x 3.0&amp;quot; - White</td>\n",
       "      <td>NaN</td>\n",
       "    </tr>\n",
       "    <tr>\n",
       "      <th>10090</th>\n",
       "      <td>Mr. Christmas 4 1/2-Inch Mini Porcelain Music ...</td>\n",
       "      <td>NaN</td>\n",
       "    </tr>\n",
       "    <tr>\n",
       "      <th>10091</th>\n",
       "      <td>Jewish New Year - Shanah Tovah - Rosh Hashana ...</td>\n",
       "      <td>NaN</td>\n",
       "    </tr>\n",
       "    <tr>\n",
       "      <th>10092</th>\n",
       "      <td>Hotel Collection Gridwork Queen Bedskirt Graphite</td>\n",
       "      <td>NaN</td>\n",
       "    </tr>\n",
       "    <tr>\n",
       "      <th>10093</th>\n",
       "      <td>2-LBS SUPER FRESH ROASTED &amp;ndash; YIRGACHEFFE ...</td>\n",
       "      <td>NaN</td>\n",
       "    </tr>\n",
       "  </tbody>\n",
       "</table>\n",
       "<p>10094 rows × 2 columns</p>\n",
       "</div>"
      ],
      "text/plain": [
       "                                                   title  category\n",
       "0      Pom Pom Hair Band Rabbit Light Grey Decorative...       NaN\n",
       "1                       Mariposa Golf Ball Napkin Weight       NaN\n",
       "2      Mediterranean Snack Food Roasted Garlic Hummuz...       NaN\n",
       "3      John Deere 0071750GX22269 Genuine Original Equ...       NaN\n",
       "4      Protech Wood Cleanr Gl,PERFORMANCE COATINGS IN...       NaN\n",
       "...                                                  ...       ...\n",
       "10089  Flexible Coupling - 3.0&quot; x 3.0&quot; - White       NaN\n",
       "10090  Mr. Christmas 4 1/2-Inch Mini Porcelain Music ...       NaN\n",
       "10091  Jewish New Year - Shanah Tovah - Rosh Hashana ...       NaN\n",
       "10092  Hotel Collection Gridwork Queen Bedskirt Graphite       NaN\n",
       "10093  2-LBS SUPER FRESH ROASTED &ndash; YIRGACHEFFE ...       NaN\n",
       "\n",
       "[10094 rows x 2 columns]"
      ]
     },
     "execution_count": 53,
     "metadata": {},
     "output_type": "execute_result"
    }
   ],
   "source": [
    "df_test1 = pd.read_csv(\"../input/examtask/testing_data.csv\")\n",
    "#df_test1 = df_test.drop('category', axis=1)\n",
    "df_test1"
   ]
  },
  {
   "cell_type": "code",
   "execution_count": 54,
   "id": "7a8dc91e",
   "metadata": {
    "execution": {
     "iopub.execute_input": "2022-01-12T11:03:41.648326Z",
     "iopub.status.busy": "2022-01-12T11:03:41.647575Z",
     "iopub.status.idle": "2022-01-12T11:03:41.917418Z",
     "shell.execute_reply": "2022-01-12T11:03:41.918021Z",
     "shell.execute_reply.started": "2022-01-12T10:44:48.754135Z"
    },
    "papermill": {
     "duration": 1.042479,
     "end_time": "2022-01-12T11:03:41.918215",
     "exception": false,
     "start_time": "2022-01-12T11:03:40.875736",
     "status": "completed"
    },
    "tags": []
   },
   "outputs": [
    {
     "name": "stderr",
     "output_type": "stream",
     "text": [
      "/opt/conda/lib/python3.7/site-packages/transformers/tokenization_utils_base.py:2218: FutureWarning: The `pad_to_max_length` argument is deprecated and will be removed in a future version, use `padding=True` or `padding='longest'` to pad to the longest sequence in the batch, or use `padding='max_length'` to pad to a max length. In this case, you can give a specific length with `max_length` (e.g. `max_length=45`) or leave max_length to None to pad to the maximal input size of the model (e.g. 512 for Bert).\n",
      "  FutureWarning,\n"
     ]
    }
   ],
   "source": [
    "new_encode = []\n",
    "for i in df_test['title']:\n",
    "    #print(i)\n",
    "    encoded_review = tokenizer.encode_plus(\n",
    "    i,\n",
    "    max_length=MAX_LEN,\n",
    "    add_special_tokens=True,\n",
    "    return_token_type_ids=False,\n",
    "    pad_to_max_length=True,\n",
    "    return_attention_mask=True,\n",
    "    return_tensors='pt',)\n",
    "    new_encode.append(encoded_review)\n"
   ]
  },
  {
   "cell_type": "code",
   "execution_count": 55,
   "id": "8bd0ccfa",
   "metadata": {
    "execution": {
     "iopub.execute_input": "2022-01-12T11:03:42.093134Z",
     "iopub.status.busy": "2022-01-12T11:03:42.092223Z",
     "iopub.status.idle": "2022-01-12T11:03:57.434502Z",
     "shell.execute_reply": "2022-01-12T11:03:57.434015Z",
     "shell.execute_reply.started": "2022-01-12T10:44:53.764078Z"
    },
    "papermill": {
     "duration": 15.431344,
     "end_time": "2022-01-12T11:03:57.434639",
     "exception": false,
     "start_time": "2022-01-12T11:03:42.003295",
     "status": "completed"
    },
    "tags": []
   },
   "outputs": [],
   "source": [
    "data = []\n",
    "for i in new_encode:\n",
    "    input_ids = i['input_ids'].to(device)\n",
    "    attention_mask = i['attention_mask'].to(device)\n",
    "    output = model(input_ids, attention_mask)\n",
    "    _, prediction = torch.max(output, dim=1)\n",
    "        \n",
    "\n",
    "    data.append(class_names[prediction])\n"
   ]
  },
  {
   "cell_type": "code",
   "execution_count": null,
   "id": "ff30384e",
   "metadata": {
    "papermill": {
     "duration": 0.083846,
     "end_time": "2022-01-12T11:03:57.603330",
     "exception": false,
     "start_time": "2022-01-12T11:03:57.519484",
     "status": "completed"
    },
    "tags": []
   },
   "outputs": [],
   "source": []
  },
  {
   "cell_type": "code",
   "execution_count": 56,
   "id": "74eae30d",
   "metadata": {
    "execution": {
     "iopub.execute_input": "2022-01-12T11:03:57.777693Z",
     "iopub.status.busy": "2022-01-12T11:03:57.776072Z",
     "iopub.status.idle": "2022-01-12T11:03:57.778268Z",
     "shell.execute_reply": "2022-01-12T11:03:57.778651Z",
     "shell.execute_reply.started": "2022-01-12T10:46:50.580347Z"
    },
    "papermill": {
     "duration": 0.091376,
     "end_time": "2022-01-12T11:03:57.778814",
     "exception": false,
     "start_time": "2022-01-12T11:03:57.687438",
     "status": "completed"
    },
    "tags": []
   },
   "outputs": [],
   "source": [
    "Final_dataframe =pd.DataFrame(data,df_test['title'])\n"
   ]
  },
  {
   "cell_type": "code",
   "execution_count": 57,
   "id": "e1eba8e4",
   "metadata": {
    "execution": {
     "iopub.execute_input": "2022-01-12T11:03:57.951823Z",
     "iopub.status.busy": "2022-01-12T11:03:57.950961Z",
     "iopub.status.idle": "2022-01-12T11:03:57.962244Z",
     "shell.execute_reply": "2022-01-12T11:03:57.961774Z",
     "shell.execute_reply.started": "2022-01-12T10:49:14.118477Z"
    },
    "papermill": {
     "duration": 0.099786,
     "end_time": "2022-01-12T11:03:57.962355",
     "exception": false,
     "start_time": "2022-01-12T11:03:57.862569",
     "status": "completed"
    },
    "tags": []
   },
   "outputs": [],
   "source": [
    "Final_dataframe.to_csv(\"output.csv\")"
   ]
  },
  {
   "cell_type": "code",
   "execution_count": 58,
   "id": "55f48c24",
   "metadata": {
    "execution": {
     "iopub.execute_input": "2022-01-12T11:03:58.133839Z",
     "iopub.status.busy": "2022-01-12T11:03:58.133248Z",
     "iopub.status.idle": "2022-01-12T11:03:58.137541Z",
     "shell.execute_reply": "2022-01-12T11:03:58.137121Z",
     "shell.execute_reply.started": "2022-01-12T10:50:39.376941Z"
    },
    "papermill": {
     "duration": 0.092184,
     "end_time": "2022-01-12T11:03:58.137646",
     "exception": false,
     "start_time": "2022-01-12T11:03:58.045462",
     "status": "completed"
    },
    "tags": []
   },
   "outputs": [
    {
     "data": {
      "text/plain": [
       "'/kaggle/working'"
      ]
     },
     "execution_count": 58,
     "metadata": {},
     "output_type": "execute_result"
    }
   ],
   "source": [
    "pwd"
   ]
  },
  {
   "cell_type": "code",
   "execution_count": null,
   "id": "fbf04510",
   "metadata": {
    "papermill": {
     "duration": 0.084374,
     "end_time": "2022-01-12T11:03:58.306642",
     "exception": false,
     "start_time": "2022-01-12T11:03:58.222268",
     "status": "completed"
    },
    "tags": []
   },
   "outputs": [],
   "source": []
  }
 ],
 "metadata": {
  "kernelspec": {
   "display_name": "Python 3",
   "language": "python",
   "name": "python3"
  },
  "language_info": {
   "codemirror_mode": {
    "name": "ipython",
    "version": 3
   },
   "file_extension": ".py",
   "mimetype": "text/x-python",
   "name": "python",
   "nbconvert_exporter": "python",
   "pygments_lexer": "ipython3",
   "version": "3.7.12"
  },
  "papermill": {
   "default_parameters": {},
   "duration": 633.732181,
   "end_time": "2022-01-12T11:04:01.669284",
   "environment_variables": {},
   "exception": null,
   "input_path": "__notebook__.ipynb",
   "output_path": "__notebook__.ipynb",
   "parameters": {},
   "start_time": "2022-01-12T10:53:27.937103",
   "version": "2.3.3"
  },
  "widgets": {
   "application/vnd.jupyter.widget-state+json": {
    "state": {
     "021caa9206f34f1d96dba4c73324f865": {
      "model_module": "@jupyter-widgets/controls",
      "model_module_version": "1.5.0",
      "model_name": "DescriptionStyleModel",
      "state": {
       "_model_module": "@jupyter-widgets/controls",
       "_model_module_version": "1.5.0",
       "_model_name": "DescriptionStyleModel",
       "_view_count": null,
       "_view_module": "@jupyter-widgets/base",
       "_view_module_version": "1.2.0",
       "_view_name": "StyleView",
       "description_width": ""
      }
     },
     "04a7b4256582467bafded49a8b0fc106": {
      "model_module": "@jupyter-widgets/controls",
      "model_module_version": "1.5.0",
      "model_name": "FloatProgressModel",
      "state": {
       "_dom_classes": [],
       "_model_module": "@jupyter-widgets/controls",
       "_model_module_version": "1.5.0",
       "_model_name": "FloatProgressModel",
       "_view_count": null,
       "_view_module": "@jupyter-widgets/controls",
       "_view_module_version": "1.5.0",
       "_view_name": "ProgressView",
       "bar_style": "success",
       "description": "",
       "description_tooltip": null,
       "layout": "IPY_MODEL_2471d7a154204e6caf06e537c33580d3",
       "max": 213450.0,
       "min": 0.0,
       "orientation": "horizontal",
       "style": "IPY_MODEL_0a8024853cf5475bb9f857e743004092",
       "value": 213450.0
      }
     },
     "0a8024853cf5475bb9f857e743004092": {
      "model_module": "@jupyter-widgets/controls",
      "model_module_version": "1.5.0",
      "model_name": "ProgressStyleModel",
      "state": {
       "_model_module": "@jupyter-widgets/controls",
       "_model_module_version": "1.5.0",
       "_model_name": "ProgressStyleModel",
       "_view_count": null,
       "_view_module": "@jupyter-widgets/base",
       "_view_module_version": "1.2.0",
       "_view_name": "StyleView",
       "bar_color": null,
       "description_width": ""
      }
     },
     "11756c8dfe4448f5b7d66aa9d3c56cac": {
      "model_module": "@jupyter-widgets/controls",
      "model_module_version": "1.5.0",
      "model_name": "HTMLModel",
      "state": {
       "_dom_classes": [],
       "_model_module": "@jupyter-widgets/controls",
       "_model_module_version": "1.5.0",
       "_model_name": "HTMLModel",
       "_view_count": null,
       "_view_module": "@jupyter-widgets/controls",
       "_view_module_version": "1.5.0",
       "_view_name": "HTMLView",
       "description": "",
       "description_tooltip": null,
       "layout": "IPY_MODEL_ff8d4e7eb78e4bb59d4da093ba49cce0",
       "placeholder": "​",
       "style": "IPY_MODEL_c27e5604546541e587804d6812bcb1ec",
       "value": "Downloading: 100%"
      }
     },
     "11ad0d8c08504a598973e7aa5b0f0829": {
      "model_module": "@jupyter-widgets/base",
      "model_module_version": "1.2.0",
      "model_name": "LayoutModel",
      "state": {
       "_model_module": "@jupyter-widgets/base",
       "_model_module_version": "1.2.0",
       "_model_name": "LayoutModel",
       "_view_count": null,
       "_view_module": "@jupyter-widgets/base",
       "_view_module_version": "1.2.0",
       "_view_name": "LayoutView",
       "align_content": null,
       "align_items": null,
       "align_self": null,
       "border": null,
       "bottom": null,
       "display": null,
       "flex": null,
       "flex_flow": null,
       "grid_area": null,
       "grid_auto_columns": null,
       "grid_auto_flow": null,
       "grid_auto_rows": null,
       "grid_column": null,
       "grid_gap": null,
       "grid_row": null,
       "grid_template_areas": null,
       "grid_template_columns": null,
       "grid_template_rows": null,
       "height": null,
       "justify_content": null,
       "justify_items": null,
       "left": null,
       "margin": null,
       "max_height": null,
       "max_width": null,
       "min_height": null,
       "min_width": null,
       "object_fit": null,
       "object_position": null,
       "order": null,
       "overflow": null,
       "overflow_x": null,
       "overflow_y": null,
       "padding": null,
       "right": null,
       "top": null,
       "visibility": null,
       "width": null
      }
     },
     "1c4fce985eed4f15bb27e9fe5426c229": {
      "model_module": "@jupyter-widgets/controls",
      "model_module_version": "1.5.0",
      "model_name": "HTMLModel",
      "state": {
       "_dom_classes": [],
       "_model_module": "@jupyter-widgets/controls",
       "_model_module_version": "1.5.0",
       "_model_name": "HTMLModel",
       "_view_count": null,
       "_view_module": "@jupyter-widgets/controls",
       "_view_module_version": "1.5.0",
       "_view_name": "HTMLView",
       "description": "",
       "description_tooltip": null,
       "layout": "IPY_MODEL_adc8645e6c75468db1bd939ba1ab6fc0",
       "placeholder": "​",
       "style": "IPY_MODEL_a4c5173cdf9b46418b8b1e541228a0c4",
       "value": "Downloading: 100%"
      }
     },
     "20bb95a30cf84a53a4bff215521ec7de": {
      "model_module": "@jupyter-widgets/base",
      "model_module_version": "1.2.0",
      "model_name": "LayoutModel",
      "state": {
       "_model_module": "@jupyter-widgets/base",
       "_model_module_version": "1.2.0",
       "_model_name": "LayoutModel",
       "_view_count": null,
       "_view_module": "@jupyter-widgets/base",
       "_view_module_version": "1.2.0",
       "_view_name": "LayoutView",
       "align_content": null,
       "align_items": null,
       "align_self": null,
       "border": null,
       "bottom": null,
       "display": null,
       "flex": null,
       "flex_flow": null,
       "grid_area": null,
       "grid_auto_columns": null,
       "grid_auto_flow": null,
       "grid_auto_rows": null,
       "grid_column": null,
       "grid_gap": null,
       "grid_row": null,
       "grid_template_areas": null,
       "grid_template_columns": null,
       "grid_template_rows": null,
       "height": null,
       "justify_content": null,
       "justify_items": null,
       "left": null,
       "margin": null,
       "max_height": null,
       "max_width": null,
       "min_height": null,
       "min_width": null,
       "object_fit": null,
       "object_position": null,
       "order": null,
       "overflow": null,
       "overflow_x": null,
       "overflow_y": null,
       "padding": null,
       "right": null,
       "top": null,
       "visibility": null,
       "width": null
      }
     },
     "21132b78d36c44ae83079298a577f654": {
      "model_module": "@jupyter-widgets/base",
      "model_module_version": "1.2.0",
      "model_name": "LayoutModel",
      "state": {
       "_model_module": "@jupyter-widgets/base",
       "_model_module_version": "1.2.0",
       "_model_name": "LayoutModel",
       "_view_count": null,
       "_view_module": "@jupyter-widgets/base",
       "_view_module_version": "1.2.0",
       "_view_name": "LayoutView",
       "align_content": null,
       "align_items": null,
       "align_self": null,
       "border": null,
       "bottom": null,
       "display": null,
       "flex": null,
       "flex_flow": null,
       "grid_area": null,
       "grid_auto_columns": null,
       "grid_auto_flow": null,
       "grid_auto_rows": null,
       "grid_column": null,
       "grid_gap": null,
       "grid_row": null,
       "grid_template_areas": null,
       "grid_template_columns": null,
       "grid_template_rows": null,
       "height": null,
       "justify_content": null,
       "justify_items": null,
       "left": null,
       "margin": null,
       "max_height": null,
       "max_width": null,
       "min_height": null,
       "min_width": null,
       "object_fit": null,
       "object_position": null,
       "order": null,
       "overflow": null,
       "overflow_x": null,
       "overflow_y": null,
       "padding": null,
       "right": null,
       "top": null,
       "visibility": null,
       "width": null
      }
     },
     "2471d7a154204e6caf06e537c33580d3": {
      "model_module": "@jupyter-widgets/base",
      "model_module_version": "1.2.0",
      "model_name": "LayoutModel",
      "state": {
       "_model_module": "@jupyter-widgets/base",
       "_model_module_version": "1.2.0",
       "_model_name": "LayoutModel",
       "_view_count": null,
       "_view_module": "@jupyter-widgets/base",
       "_view_module_version": "1.2.0",
       "_view_name": "LayoutView",
       "align_content": null,
       "align_items": null,
       "align_self": null,
       "border": null,
       "bottom": null,
       "display": null,
       "flex": null,
       "flex_flow": null,
       "grid_area": null,
       "grid_auto_columns": null,
       "grid_auto_flow": null,
       "grid_auto_rows": null,
       "grid_column": null,
       "grid_gap": null,
       "grid_row": null,
       "grid_template_areas": null,
       "grid_template_columns": null,
       "grid_template_rows": null,
       "height": null,
       "justify_content": null,
       "justify_items": null,
       "left": null,
       "margin": null,
       "max_height": null,
       "max_width": null,
       "min_height": null,
       "min_width": null,
       "object_fit": null,
       "object_position": null,
       "order": null,
       "overflow": null,
       "overflow_x": null,
       "overflow_y": null,
       "padding": null,
       "right": null,
       "top": null,
       "visibility": null,
       "width": null
      }
     },
     "25a5609d74574cc79083620090c0af18": {
      "model_module": "@jupyter-widgets/base",
      "model_module_version": "1.2.0",
      "model_name": "LayoutModel",
      "state": {
       "_model_module": "@jupyter-widgets/base",
       "_model_module_version": "1.2.0",
       "_model_name": "LayoutModel",
       "_view_count": null,
       "_view_module": "@jupyter-widgets/base",
       "_view_module_version": "1.2.0",
       "_view_name": "LayoutView",
       "align_content": null,
       "align_items": null,
       "align_self": null,
       "border": null,
       "bottom": null,
       "display": null,
       "flex": null,
       "flex_flow": null,
       "grid_area": null,
       "grid_auto_columns": null,
       "grid_auto_flow": null,
       "grid_auto_rows": null,
       "grid_column": null,
       "grid_gap": null,
       "grid_row": null,
       "grid_template_areas": null,
       "grid_template_columns": null,
       "grid_template_rows": null,
       "height": null,
       "justify_content": null,
       "justify_items": null,
       "left": null,
       "margin": null,
       "max_height": null,
       "max_width": null,
       "min_height": null,
       "min_width": null,
       "object_fit": null,
       "object_position": null,
       "order": null,
       "overflow": null,
       "overflow_x": null,
       "overflow_y": null,
       "padding": null,
       "right": null,
       "top": null,
       "visibility": null,
       "width": null
      }
     },
     "33dba92929d043a7862abf4614bb38f7": {
      "model_module": "@jupyter-widgets/controls",
      "model_module_version": "1.5.0",
      "model_name": "DescriptionStyleModel",
      "state": {
       "_model_module": "@jupyter-widgets/controls",
       "_model_module_version": "1.5.0",
       "_model_name": "DescriptionStyleModel",
       "_view_count": null,
       "_view_module": "@jupyter-widgets/base",
       "_view_module_version": "1.2.0",
       "_view_name": "StyleView",
       "description_width": ""
      }
     },
     "378dbf0dcebb489faf754ad8f86e04f5": {
      "model_module": "@jupyter-widgets/controls",
      "model_module_version": "1.5.0",
      "model_name": "HTMLModel",
      "state": {
       "_dom_classes": [],
       "_model_module": "@jupyter-widgets/controls",
       "_model_module_version": "1.5.0",
       "_model_name": "HTMLModel",
       "_view_count": null,
       "_view_module": "@jupyter-widgets/controls",
       "_view_module_version": "1.5.0",
       "_view_name": "HTMLView",
       "description": "",
       "description_tooltip": null,
       "layout": "IPY_MODEL_d5c68bec023046659b384b0535bc2244",
       "placeholder": "​",
       "style": "IPY_MODEL_f36827141c114b31b7f06e4f22c65647",
       "value": " 29.0/29.0 [00:00&lt;00:00, 1.16kB/s]"
      }
     },
     "3ac8dabf4a1c4287bd5d7128616daf47": {
      "model_module": "@jupyter-widgets/controls",
      "model_module_version": "1.5.0",
      "model_name": "HTMLModel",
      "state": {
       "_dom_classes": [],
       "_model_module": "@jupyter-widgets/controls",
       "_model_module_version": "1.5.0",
       "_model_name": "HTMLModel",
       "_view_count": null,
       "_view_module": "@jupyter-widgets/controls",
       "_view_module_version": "1.5.0",
       "_view_name": "HTMLView",
       "description": "",
       "description_tooltip": null,
       "layout": "IPY_MODEL_c471d242047c4ef8b6e41497e323c5f3",
       "placeholder": "​",
       "style": "IPY_MODEL_b9e0e697a55943f0b43d79e4a7651d9d",
       "value": " 208k/208k [00:00&lt;00:00, 232kB/s]"
      }
     },
     "3ca6224cdda8427597f75fabf73739e9": {
      "model_module": "@jupyter-widgets/controls",
      "model_module_version": "1.5.0",
      "model_name": "HTMLModel",
      "state": {
       "_dom_classes": [],
       "_model_module": "@jupyter-widgets/controls",
       "_model_module_version": "1.5.0",
       "_model_name": "HTMLModel",
       "_view_count": null,
       "_view_module": "@jupyter-widgets/controls",
       "_view_module_version": "1.5.0",
       "_view_name": "HTMLView",
       "description": "",
       "description_tooltip": null,
       "layout": "IPY_MODEL_25a5609d74574cc79083620090c0af18",
       "placeholder": "​",
       "style": "IPY_MODEL_33dba92929d043a7862abf4614bb38f7",
       "value": " 570/570 [00:00&lt;00:00, 21.1kB/s]"
      }
     },
     "4dd37873d8bc43ce9b5c8658022f3f31": {
      "model_module": "@jupyter-widgets/controls",
      "model_module_version": "1.5.0",
      "model_name": "HBoxModel",
      "state": {
       "_dom_classes": [],
       "_model_module": "@jupyter-widgets/controls",
       "_model_module_version": "1.5.0",
       "_model_name": "HBoxModel",
       "_view_count": null,
       "_view_module": "@jupyter-widgets/controls",
       "_view_module_version": "1.5.0",
       "_view_name": "HBoxView",
       "box_style": "",
       "children": [
        "IPY_MODEL_b5d6d7e4fbfc4c0b91e07e82894987ba",
        "IPY_MODEL_dc6e8e440ffb4ff88a09d6dca8176a02",
        "IPY_MODEL_8e88de3bee06482c8e972e7854f3293c"
       ],
       "layout": "IPY_MODEL_a59071044c684593bbcef8ee86289662"
      }
     },
     "4fdc97d342d1409e881ca277662546f9": {
      "model_module": "@jupyter-widgets/base",
      "model_module_version": "1.2.0",
      "model_name": "LayoutModel",
      "state": {
       "_model_module": "@jupyter-widgets/base",
       "_model_module_version": "1.2.0",
       "_model_name": "LayoutModel",
       "_view_count": null,
       "_view_module": "@jupyter-widgets/base",
       "_view_module_version": "1.2.0",
       "_view_name": "LayoutView",
       "align_content": null,
       "align_items": null,
       "align_self": null,
       "border": null,
       "bottom": null,
       "display": null,
       "flex": null,
       "flex_flow": null,
       "grid_area": null,
       "grid_auto_columns": null,
       "grid_auto_flow": null,
       "grid_auto_rows": null,
       "grid_column": null,
       "grid_gap": null,
       "grid_row": null,
       "grid_template_areas": null,
       "grid_template_columns": null,
       "grid_template_rows": null,
       "height": null,
       "justify_content": null,
       "justify_items": null,
       "left": null,
       "margin": null,
       "max_height": null,
       "max_width": null,
       "min_height": null,
       "min_width": null,
       "object_fit": null,
       "object_position": null,
       "order": null,
       "overflow": null,
       "overflow_x": null,
       "overflow_y": null,
       "padding": null,
       "right": null,
       "top": null,
       "visibility": null,
       "width": null
      }
     },
     "552cb244e08b490a814711c343e4251d": {
      "model_module": "@jupyter-widgets/base",
      "model_module_version": "1.2.0",
      "model_name": "LayoutModel",
      "state": {
       "_model_module": "@jupyter-widgets/base",
       "_model_module_version": "1.2.0",
       "_model_name": "LayoutModel",
       "_view_count": null,
       "_view_module": "@jupyter-widgets/base",
       "_view_module_version": "1.2.0",
       "_view_name": "LayoutView",
       "align_content": null,
       "align_items": null,
       "align_self": null,
       "border": null,
       "bottom": null,
       "display": null,
       "flex": null,
       "flex_flow": null,
       "grid_area": null,
       "grid_auto_columns": null,
       "grid_auto_flow": null,
       "grid_auto_rows": null,
       "grid_column": null,
       "grid_gap": null,
       "grid_row": null,
       "grid_template_areas": null,
       "grid_template_columns": null,
       "grid_template_rows": null,
       "height": null,
       "justify_content": null,
       "justify_items": null,
       "left": null,
       "margin": null,
       "max_height": null,
       "max_width": null,
       "min_height": null,
       "min_width": null,
       "object_fit": null,
       "object_position": null,
       "order": null,
       "overflow": null,
       "overflow_x": null,
       "overflow_y": null,
       "padding": null,
       "right": null,
       "top": null,
       "visibility": null,
       "width": null
      }
     },
     "5673f2c9d2b2452ca6b0030ea67f2079": {
      "model_module": "@jupyter-widgets/controls",
      "model_module_version": "1.5.0",
      "model_name": "HTMLModel",
      "state": {
       "_dom_classes": [],
       "_model_module": "@jupyter-widgets/controls",
       "_model_module_version": "1.5.0",
       "_model_name": "HTMLModel",
       "_view_count": null,
       "_view_module": "@jupyter-widgets/controls",
       "_view_module_version": "1.5.0",
       "_view_name": "HTMLView",
       "description": "",
       "description_tooltip": null,
       "layout": "IPY_MODEL_4fdc97d342d1409e881ca277662546f9",
       "placeholder": "​",
       "style": "IPY_MODEL_7a6b8bf11e0849e285d4981df451b2a2",
       "value": "Downloading: 100%"
      }
     },
     "5c85dc5c9a1749e7b7b0a684277c70d4": {
      "model_module": "@jupyter-widgets/base",
      "model_module_version": "1.2.0",
      "model_name": "LayoutModel",
      "state": {
       "_model_module": "@jupyter-widgets/base",
       "_model_module_version": "1.2.0",
       "_model_name": "LayoutModel",
       "_view_count": null,
       "_view_module": "@jupyter-widgets/base",
       "_view_module_version": "1.2.0",
       "_view_name": "LayoutView",
       "align_content": null,
       "align_items": null,
       "align_self": null,
       "border": null,
       "bottom": null,
       "display": null,
       "flex": null,
       "flex_flow": null,
       "grid_area": null,
       "grid_auto_columns": null,
       "grid_auto_flow": null,
       "grid_auto_rows": null,
       "grid_column": null,
       "grid_gap": null,
       "grid_row": null,
       "grid_template_areas": null,
       "grid_template_columns": null,
       "grid_template_rows": null,
       "height": null,
       "justify_content": null,
       "justify_items": null,
       "left": null,
       "margin": null,
       "max_height": null,
       "max_width": null,
       "min_height": null,
       "min_width": null,
       "object_fit": null,
       "object_position": null,
       "order": null,
       "overflow": null,
       "overflow_x": null,
       "overflow_y": null,
       "padding": null,
       "right": null,
       "top": null,
       "visibility": null,
       "width": null
      }
     },
     "624c34af320342c59a2a293b02398878": {
      "model_module": "@jupyter-widgets/base",
      "model_module_version": "1.2.0",
      "model_name": "LayoutModel",
      "state": {
       "_model_module": "@jupyter-widgets/base",
       "_model_module_version": "1.2.0",
       "_model_name": "LayoutModel",
       "_view_count": null,
       "_view_module": "@jupyter-widgets/base",
       "_view_module_version": "1.2.0",
       "_view_name": "LayoutView",
       "align_content": null,
       "align_items": null,
       "align_self": null,
       "border": null,
       "bottom": null,
       "display": null,
       "flex": null,
       "flex_flow": null,
       "grid_area": null,
       "grid_auto_columns": null,
       "grid_auto_flow": null,
       "grid_auto_rows": null,
       "grid_column": null,
       "grid_gap": null,
       "grid_row": null,
       "grid_template_areas": null,
       "grid_template_columns": null,
       "grid_template_rows": null,
       "height": null,
       "justify_content": null,
       "justify_items": null,
       "left": null,
       "margin": null,
       "max_height": null,
       "max_width": null,
       "min_height": null,
       "min_width": null,
       "object_fit": null,
       "object_position": null,
       "order": null,
       "overflow": null,
       "overflow_x": null,
       "overflow_y": null,
       "padding": null,
       "right": null,
       "top": null,
       "visibility": null,
       "width": null
      }
     },
     "63b66085949641e7b9d8eb44284a422c": {
      "model_module": "@jupyter-widgets/controls",
      "model_module_version": "1.5.0",
      "model_name": "HTMLModel",
      "state": {
       "_dom_classes": [],
       "_model_module": "@jupyter-widgets/controls",
       "_model_module_version": "1.5.0",
       "_model_name": "HTMLModel",
       "_view_count": null,
       "_view_module": "@jupyter-widgets/controls",
       "_view_module_version": "1.5.0",
       "_view_name": "HTMLView",
       "description": "",
       "description_tooltip": null,
       "layout": "IPY_MODEL_624c34af320342c59a2a293b02398878",
       "placeholder": "​",
       "style": "IPY_MODEL_6cdd4e7e30d1475da0ccf0f2c0932438",
       "value": " 426k/426k [00:00&lt;00:00, 908kB/s]"
      }
     },
     "64a8c3d7a3464575a76d7079ad31834e": {
      "model_module": "@jupyter-widgets/base",
      "model_module_version": "1.2.0",
      "model_name": "LayoutModel",
      "state": {
       "_model_module": "@jupyter-widgets/base",
       "_model_module_version": "1.2.0",
       "_model_name": "LayoutModel",
       "_view_count": null,
       "_view_module": "@jupyter-widgets/base",
       "_view_module_version": "1.2.0",
       "_view_name": "LayoutView",
       "align_content": null,
       "align_items": null,
       "align_self": null,
       "border": null,
       "bottom": null,
       "display": null,
       "flex": null,
       "flex_flow": null,
       "grid_area": null,
       "grid_auto_columns": null,
       "grid_auto_flow": null,
       "grid_auto_rows": null,
       "grid_column": null,
       "grid_gap": null,
       "grid_row": null,
       "grid_template_areas": null,
       "grid_template_columns": null,
       "grid_template_rows": null,
       "height": null,
       "justify_content": null,
       "justify_items": null,
       "left": null,
       "margin": null,
       "max_height": null,
       "max_width": null,
       "min_height": null,
       "min_width": null,
       "object_fit": null,
       "object_position": null,
       "order": null,
       "overflow": null,
       "overflow_x": null,
       "overflow_y": null,
       "padding": null,
       "right": null,
       "top": null,
       "visibility": null,
       "width": null
      }
     },
     "66cfea3ad5b5469ca92ac283911bdf7c": {
      "model_module": "@jupyter-widgets/controls",
      "model_module_version": "1.5.0",
      "model_name": "ProgressStyleModel",
      "state": {
       "_model_module": "@jupyter-widgets/controls",
       "_model_module_version": "1.5.0",
       "_model_name": "ProgressStyleModel",
       "_view_count": null,
       "_view_module": "@jupyter-widgets/base",
       "_view_module_version": "1.2.0",
       "_view_name": "StyleView",
       "bar_color": null,
       "description_width": ""
      }
     },
     "67b9f5f3a8f8457ba03ca2efac442dde": {
      "model_module": "@jupyter-widgets/base",
      "model_module_version": "1.2.0",
      "model_name": "LayoutModel",
      "state": {
       "_model_module": "@jupyter-widgets/base",
       "_model_module_version": "1.2.0",
       "_model_name": "LayoutModel",
       "_view_count": null,
       "_view_module": "@jupyter-widgets/base",
       "_view_module_version": "1.2.0",
       "_view_name": "LayoutView",
       "align_content": null,
       "align_items": null,
       "align_self": null,
       "border": null,
       "bottom": null,
       "display": null,
       "flex": null,
       "flex_flow": null,
       "grid_area": null,
       "grid_auto_columns": null,
       "grid_auto_flow": null,
       "grid_auto_rows": null,
       "grid_column": null,
       "grid_gap": null,
       "grid_row": null,
       "grid_template_areas": null,
       "grid_template_columns": null,
       "grid_template_rows": null,
       "height": null,
       "justify_content": null,
       "justify_items": null,
       "left": null,
       "margin": null,
       "max_height": null,
       "max_width": null,
       "min_height": null,
       "min_width": null,
       "object_fit": null,
       "object_position": null,
       "order": null,
       "overflow": null,
       "overflow_x": null,
       "overflow_y": null,
       "padding": null,
       "right": null,
       "top": null,
       "visibility": null,
       "width": null
      }
     },
     "6cdd4e7e30d1475da0ccf0f2c0932438": {
      "model_module": "@jupyter-widgets/controls",
      "model_module_version": "1.5.0",
      "model_name": "DescriptionStyleModel",
      "state": {
       "_model_module": "@jupyter-widgets/controls",
       "_model_module_version": "1.5.0",
       "_model_name": "DescriptionStyleModel",
       "_view_count": null,
       "_view_module": "@jupyter-widgets/base",
       "_view_module_version": "1.2.0",
       "_view_name": "StyleView",
       "description_width": ""
      }
     },
     "71ca199c6e344e54b5dc685472fc62e0": {
      "model_module": "@jupyter-widgets/controls",
      "model_module_version": "1.5.0",
      "model_name": "HTMLModel",
      "state": {
       "_dom_classes": [],
       "_model_module": "@jupyter-widgets/controls",
       "_model_module_version": "1.5.0",
       "_model_name": "HTMLModel",
       "_view_count": null,
       "_view_module": "@jupyter-widgets/controls",
       "_view_module_version": "1.5.0",
       "_view_name": "HTMLView",
       "description": "",
       "description_tooltip": null,
       "layout": "IPY_MODEL_887ecf5e224c48c99d6f488e24824e66",
       "placeholder": "​",
       "style": "IPY_MODEL_d7f9be655b6a4609ab024c22c570b7d8",
       "value": "Downloading: 100%"
      }
     },
     "7a6b8bf11e0849e285d4981df451b2a2": {
      "model_module": "@jupyter-widgets/controls",
      "model_module_version": "1.5.0",
      "model_name": "DescriptionStyleModel",
      "state": {
       "_model_module": "@jupyter-widgets/controls",
       "_model_module_version": "1.5.0",
       "_model_name": "DescriptionStyleModel",
       "_view_count": null,
       "_view_module": "@jupyter-widgets/base",
       "_view_module_version": "1.2.0",
       "_view_name": "StyleView",
       "description_width": ""
      }
     },
     "8194bd979e1f4e06a0ee264b4f71551c": {
      "model_module": "@jupyter-widgets/controls",
      "model_module_version": "1.5.0",
      "model_name": "DescriptionStyleModel",
      "state": {
       "_model_module": "@jupyter-widgets/controls",
       "_model_module_version": "1.5.0",
       "_model_name": "DescriptionStyleModel",
       "_view_count": null,
       "_view_module": "@jupyter-widgets/base",
       "_view_module_version": "1.2.0",
       "_view_name": "StyleView",
       "description_width": ""
      }
     },
     "887ecf5e224c48c99d6f488e24824e66": {
      "model_module": "@jupyter-widgets/base",
      "model_module_version": "1.2.0",
      "model_name": "LayoutModel",
      "state": {
       "_model_module": "@jupyter-widgets/base",
       "_model_module_version": "1.2.0",
       "_model_name": "LayoutModel",
       "_view_count": null,
       "_view_module": "@jupyter-widgets/base",
       "_view_module_version": "1.2.0",
       "_view_name": "LayoutView",
       "align_content": null,
       "align_items": null,
       "align_self": null,
       "border": null,
       "bottom": null,
       "display": null,
       "flex": null,
       "flex_flow": null,
       "grid_area": null,
       "grid_auto_columns": null,
       "grid_auto_flow": null,
       "grid_auto_rows": null,
       "grid_column": null,
       "grid_gap": null,
       "grid_row": null,
       "grid_template_areas": null,
       "grid_template_columns": null,
       "grid_template_rows": null,
       "height": null,
       "justify_content": null,
       "justify_items": null,
       "left": null,
       "margin": null,
       "max_height": null,
       "max_width": null,
       "min_height": null,
       "min_width": null,
       "object_fit": null,
       "object_position": null,
       "order": null,
       "overflow": null,
       "overflow_x": null,
       "overflow_y": null,
       "padding": null,
       "right": null,
       "top": null,
       "visibility": null,
       "width": null
      }
     },
     "8907400e345f4881ab7937a8dafd4f5d": {
      "model_module": "@jupyter-widgets/controls",
      "model_module_version": "1.5.0",
      "model_name": "FloatProgressModel",
      "state": {
       "_dom_classes": [],
       "_model_module": "@jupyter-widgets/controls",
       "_model_module_version": "1.5.0",
       "_model_name": "FloatProgressModel",
       "_view_count": null,
       "_view_module": "@jupyter-widgets/controls",
       "_view_module_version": "1.5.0",
       "_view_name": "ProgressView",
       "bar_style": "success",
       "description": "",
       "description_tooltip": null,
       "layout": "IPY_MODEL_11ad0d8c08504a598973e7aa5b0f0829",
       "max": 29.0,
       "min": 0.0,
       "orientation": "horizontal",
       "style": "IPY_MODEL_8aca29253f4441948ea5617b1f3ed892",
       "value": 29.0
      }
     },
     "89769b1455bb41139bc5ff196d49148d": {
      "model_module": "@jupyter-widgets/controls",
      "model_module_version": "1.5.0",
      "model_name": "HBoxModel",
      "state": {
       "_dom_classes": [],
       "_model_module": "@jupyter-widgets/controls",
       "_model_module_version": "1.5.0",
       "_model_name": "HBoxModel",
       "_view_count": null,
       "_view_module": "@jupyter-widgets/controls",
       "_view_module_version": "1.5.0",
       "_view_name": "HBoxView",
       "box_style": "",
       "children": [
        "IPY_MODEL_11756c8dfe4448f5b7d66aa9d3c56cac",
        "IPY_MODEL_ced1aa556de6411d969d91936f6b5a58",
        "IPY_MODEL_63b66085949641e7b9d8eb44284a422c"
       ],
       "layout": "IPY_MODEL_5c85dc5c9a1749e7b7b0a684277c70d4"
      }
     },
     "8aca29253f4441948ea5617b1f3ed892": {
      "model_module": "@jupyter-widgets/controls",
      "model_module_version": "1.5.0",
      "model_name": "ProgressStyleModel",
      "state": {
       "_model_module": "@jupyter-widgets/controls",
       "_model_module_version": "1.5.0",
       "_model_name": "ProgressStyleModel",
       "_view_count": null,
       "_view_module": "@jupyter-widgets/base",
       "_view_module_version": "1.2.0",
       "_view_name": "StyleView",
       "bar_color": null,
       "description_width": ""
      }
     },
     "8e88de3bee06482c8e972e7854f3293c": {
      "model_module": "@jupyter-widgets/controls",
      "model_module_version": "1.5.0",
      "model_name": "HTMLModel",
      "state": {
       "_dom_classes": [],
       "_model_module": "@jupyter-widgets/controls",
       "_model_module_version": "1.5.0",
       "_model_name": "HTMLModel",
       "_view_count": null,
       "_view_module": "@jupyter-widgets/controls",
       "_view_module_version": "1.5.0",
       "_view_name": "HTMLView",
       "description": "",
       "description_tooltip": null,
       "layout": "IPY_MODEL_552cb244e08b490a814711c343e4251d",
       "placeholder": "​",
       "style": "IPY_MODEL_021caa9206f34f1d96dba4c73324f865",
       "value": " 416M/416M [00:19&lt;00:00, 23.7MB/s]"
      }
     },
     "9a2439fca5b540f69ebcf4d5ca23e075": {
      "model_module": "@jupyter-widgets/controls",
      "model_module_version": "1.5.0",
      "model_name": "ProgressStyleModel",
      "state": {
       "_model_module": "@jupyter-widgets/controls",
       "_model_module_version": "1.5.0",
       "_model_name": "ProgressStyleModel",
       "_view_count": null,
       "_view_module": "@jupyter-widgets/base",
       "_view_module_version": "1.2.0",
       "_view_name": "StyleView",
       "bar_color": null,
       "description_width": ""
      }
     },
     "a4c5173cdf9b46418b8b1e541228a0c4": {
      "model_module": "@jupyter-widgets/controls",
      "model_module_version": "1.5.0",
      "model_name": "DescriptionStyleModel",
      "state": {
       "_model_module": "@jupyter-widgets/controls",
       "_model_module_version": "1.5.0",
       "_model_name": "DescriptionStyleModel",
       "_view_count": null,
       "_view_module": "@jupyter-widgets/base",
       "_view_module_version": "1.2.0",
       "_view_name": "StyleView",
       "description_width": ""
      }
     },
     "a59071044c684593bbcef8ee86289662": {
      "model_module": "@jupyter-widgets/base",
      "model_module_version": "1.2.0",
      "model_name": "LayoutModel",
      "state": {
       "_model_module": "@jupyter-widgets/base",
       "_model_module_version": "1.2.0",
       "_model_name": "LayoutModel",
       "_view_count": null,
       "_view_module": "@jupyter-widgets/base",
       "_view_module_version": "1.2.0",
       "_view_name": "LayoutView",
       "align_content": null,
       "align_items": null,
       "align_self": null,
       "border": null,
       "bottom": null,
       "display": null,
       "flex": null,
       "flex_flow": null,
       "grid_area": null,
       "grid_auto_columns": null,
       "grid_auto_flow": null,
       "grid_auto_rows": null,
       "grid_column": null,
       "grid_gap": null,
       "grid_row": null,
       "grid_template_areas": null,
       "grid_template_columns": null,
       "grid_template_rows": null,
       "height": null,
       "justify_content": null,
       "justify_items": null,
       "left": null,
       "margin": null,
       "max_height": null,
       "max_width": null,
       "min_height": null,
       "min_width": null,
       "object_fit": null,
       "object_position": null,
       "order": null,
       "overflow": null,
       "overflow_x": null,
       "overflow_y": null,
       "padding": null,
       "right": null,
       "top": null,
       "visibility": null,
       "width": null
      }
     },
     "adc8645e6c75468db1bd939ba1ab6fc0": {
      "model_module": "@jupyter-widgets/base",
      "model_module_version": "1.2.0",
      "model_name": "LayoutModel",
      "state": {
       "_model_module": "@jupyter-widgets/base",
       "_model_module_version": "1.2.0",
       "_model_name": "LayoutModel",
       "_view_count": null,
       "_view_module": "@jupyter-widgets/base",
       "_view_module_version": "1.2.0",
       "_view_name": "LayoutView",
       "align_content": null,
       "align_items": null,
       "align_self": null,
       "border": null,
       "bottom": null,
       "display": null,
       "flex": null,
       "flex_flow": null,
       "grid_area": null,
       "grid_auto_columns": null,
       "grid_auto_flow": null,
       "grid_auto_rows": null,
       "grid_column": null,
       "grid_gap": null,
       "grid_row": null,
       "grid_template_areas": null,
       "grid_template_columns": null,
       "grid_template_rows": null,
       "height": null,
       "justify_content": null,
       "justify_items": null,
       "left": null,
       "margin": null,
       "max_height": null,
       "max_width": null,
       "min_height": null,
       "min_width": null,
       "object_fit": null,
       "object_position": null,
       "order": null,
       "overflow": null,
       "overflow_x": null,
       "overflow_y": null,
       "padding": null,
       "right": null,
       "top": null,
       "visibility": null,
       "width": null
      }
     },
     "b023c9ae65a8473aa4e22897d7751c10": {
      "model_module": "@jupyter-widgets/base",
      "model_module_version": "1.2.0",
      "model_name": "LayoutModel",
      "state": {
       "_model_module": "@jupyter-widgets/base",
       "_model_module_version": "1.2.0",
       "_model_name": "LayoutModel",
       "_view_count": null,
       "_view_module": "@jupyter-widgets/base",
       "_view_module_version": "1.2.0",
       "_view_name": "LayoutView",
       "align_content": null,
       "align_items": null,
       "align_self": null,
       "border": null,
       "bottom": null,
       "display": null,
       "flex": null,
       "flex_flow": null,
       "grid_area": null,
       "grid_auto_columns": null,
       "grid_auto_flow": null,
       "grid_auto_rows": null,
       "grid_column": null,
       "grid_gap": null,
       "grid_row": null,
       "grid_template_areas": null,
       "grid_template_columns": null,
       "grid_template_rows": null,
       "height": null,
       "justify_content": null,
       "justify_items": null,
       "left": null,
       "margin": null,
       "max_height": null,
       "max_width": null,
       "min_height": null,
       "min_width": null,
       "object_fit": null,
       "object_position": null,
       "order": null,
       "overflow": null,
       "overflow_x": null,
       "overflow_y": null,
       "padding": null,
       "right": null,
       "top": null,
       "visibility": null,
       "width": null
      }
     },
     "b5d6d7e4fbfc4c0b91e07e82894987ba": {
      "model_module": "@jupyter-widgets/controls",
      "model_module_version": "1.5.0",
      "model_name": "HTMLModel",
      "state": {
       "_dom_classes": [],
       "_model_module": "@jupyter-widgets/controls",
       "_model_module_version": "1.5.0",
       "_model_name": "HTMLModel",
       "_view_count": null,
       "_view_module": "@jupyter-widgets/controls",
       "_view_module_version": "1.5.0",
       "_view_name": "HTMLView",
       "description": "",
       "description_tooltip": null,
       "layout": "IPY_MODEL_eef050592d1a4baebeeb106a835e3ebf",
       "placeholder": "​",
       "style": "IPY_MODEL_8194bd979e1f4e06a0ee264b4f71551c",
       "value": "Downloading: 100%"
      }
     },
     "b9e0e697a55943f0b43d79e4a7651d9d": {
      "model_module": "@jupyter-widgets/controls",
      "model_module_version": "1.5.0",
      "model_name": "DescriptionStyleModel",
      "state": {
       "_model_module": "@jupyter-widgets/controls",
       "_model_module_version": "1.5.0",
       "_model_name": "DescriptionStyleModel",
       "_view_count": null,
       "_view_module": "@jupyter-widgets/base",
       "_view_module_version": "1.2.0",
       "_view_name": "StyleView",
       "description_width": ""
      }
     },
     "bb4a9d07f63843e1a9fc8cd823962e2f": {
      "model_module": "@jupyter-widgets/controls",
      "model_module_version": "1.5.0",
      "model_name": "HBoxModel",
      "state": {
       "_dom_classes": [],
       "_model_module": "@jupyter-widgets/controls",
       "_model_module_version": "1.5.0",
       "_model_name": "HBoxModel",
       "_view_count": null,
       "_view_module": "@jupyter-widgets/controls",
       "_view_module_version": "1.5.0",
       "_view_name": "HBoxView",
       "box_style": "",
       "children": [
        "IPY_MODEL_1c4fce985eed4f15bb27e9fe5426c229",
        "IPY_MODEL_bf8b9219ad374de4a4b70564b66c319e",
        "IPY_MODEL_3ca6224cdda8427597f75fabf73739e9"
       ],
       "layout": "IPY_MODEL_fc6d71fbec804cec94bfa840d133f5a1"
      }
     },
     "bb8bd430ed474d21b2a4979adb7326d3": {
      "model_module": "@jupyter-widgets/controls",
      "model_module_version": "1.5.0",
      "model_name": "HBoxModel",
      "state": {
       "_dom_classes": [],
       "_model_module": "@jupyter-widgets/controls",
       "_model_module_version": "1.5.0",
       "_model_name": "HBoxModel",
       "_view_count": null,
       "_view_module": "@jupyter-widgets/controls",
       "_view_module_version": "1.5.0",
       "_view_name": "HBoxView",
       "box_style": "",
       "children": [
        "IPY_MODEL_5673f2c9d2b2452ca6b0030ea67f2079",
        "IPY_MODEL_04a7b4256582467bafded49a8b0fc106",
        "IPY_MODEL_3ac8dabf4a1c4287bd5d7128616daf47"
       ],
       "layout": "IPY_MODEL_67b9f5f3a8f8457ba03ca2efac442dde"
      }
     },
     "bf8b9219ad374de4a4b70564b66c319e": {
      "model_module": "@jupyter-widgets/controls",
      "model_module_version": "1.5.0",
      "model_name": "FloatProgressModel",
      "state": {
       "_dom_classes": [],
       "_model_module": "@jupyter-widgets/controls",
       "_model_module_version": "1.5.0",
       "_model_name": "FloatProgressModel",
       "_view_count": null,
       "_view_module": "@jupyter-widgets/controls",
       "_view_module_version": "1.5.0",
       "_view_name": "ProgressView",
       "bar_style": "success",
       "description": "",
       "description_tooltip": null,
       "layout": "IPY_MODEL_b023c9ae65a8473aa4e22897d7751c10",
       "max": 570.0,
       "min": 0.0,
       "orientation": "horizontal",
       "style": "IPY_MODEL_e4fef746fbde4e249a58d6b66dcdd6b2",
       "value": 570.0
      }
     },
     "c27e5604546541e587804d6812bcb1ec": {
      "model_module": "@jupyter-widgets/controls",
      "model_module_version": "1.5.0",
      "model_name": "DescriptionStyleModel",
      "state": {
       "_model_module": "@jupyter-widgets/controls",
       "_model_module_version": "1.5.0",
       "_model_name": "DescriptionStyleModel",
       "_view_count": null,
       "_view_module": "@jupyter-widgets/base",
       "_view_module_version": "1.2.0",
       "_view_name": "StyleView",
       "description_width": ""
      }
     },
     "c471d242047c4ef8b6e41497e323c5f3": {
      "model_module": "@jupyter-widgets/base",
      "model_module_version": "1.2.0",
      "model_name": "LayoutModel",
      "state": {
       "_model_module": "@jupyter-widgets/base",
       "_model_module_version": "1.2.0",
       "_model_name": "LayoutModel",
       "_view_count": null,
       "_view_module": "@jupyter-widgets/base",
       "_view_module_version": "1.2.0",
       "_view_name": "LayoutView",
       "align_content": null,
       "align_items": null,
       "align_self": null,
       "border": null,
       "bottom": null,
       "display": null,
       "flex": null,
       "flex_flow": null,
       "grid_area": null,
       "grid_auto_columns": null,
       "grid_auto_flow": null,
       "grid_auto_rows": null,
       "grid_column": null,
       "grid_gap": null,
       "grid_row": null,
       "grid_template_areas": null,
       "grid_template_columns": null,
       "grid_template_rows": null,
       "height": null,
       "justify_content": null,
       "justify_items": null,
       "left": null,
       "margin": null,
       "max_height": null,
       "max_width": null,
       "min_height": null,
       "min_width": null,
       "object_fit": null,
       "object_position": null,
       "order": null,
       "overflow": null,
       "overflow_x": null,
       "overflow_y": null,
       "padding": null,
       "right": null,
       "top": null,
       "visibility": null,
       "width": null
      }
     },
     "ced1aa556de6411d969d91936f6b5a58": {
      "model_module": "@jupyter-widgets/controls",
      "model_module_version": "1.5.0",
      "model_name": "FloatProgressModel",
      "state": {
       "_dom_classes": [],
       "_model_module": "@jupyter-widgets/controls",
       "_model_module_version": "1.5.0",
       "_model_name": "FloatProgressModel",
       "_view_count": null,
       "_view_module": "@jupyter-widgets/controls",
       "_view_module_version": "1.5.0",
       "_view_name": "ProgressView",
       "bar_style": "success",
       "description": "",
       "description_tooltip": null,
       "layout": "IPY_MODEL_21132b78d36c44ae83079298a577f654",
       "max": 435797.0,
       "min": 0.0,
       "orientation": "horizontal",
       "style": "IPY_MODEL_9a2439fca5b540f69ebcf4d5ca23e075",
       "value": 435797.0
      }
     },
     "d5c68bec023046659b384b0535bc2244": {
      "model_module": "@jupyter-widgets/base",
      "model_module_version": "1.2.0",
      "model_name": "LayoutModel",
      "state": {
       "_model_module": "@jupyter-widgets/base",
       "_model_module_version": "1.2.0",
       "_model_name": "LayoutModel",
       "_view_count": null,
       "_view_module": "@jupyter-widgets/base",
       "_view_module_version": "1.2.0",
       "_view_name": "LayoutView",
       "align_content": null,
       "align_items": null,
       "align_self": null,
       "border": null,
       "bottom": null,
       "display": null,
       "flex": null,
       "flex_flow": null,
       "grid_area": null,
       "grid_auto_columns": null,
       "grid_auto_flow": null,
       "grid_auto_rows": null,
       "grid_column": null,
       "grid_gap": null,
       "grid_row": null,
       "grid_template_areas": null,
       "grid_template_columns": null,
       "grid_template_rows": null,
       "height": null,
       "justify_content": null,
       "justify_items": null,
       "left": null,
       "margin": null,
       "max_height": null,
       "max_width": null,
       "min_height": null,
       "min_width": null,
       "object_fit": null,
       "object_position": null,
       "order": null,
       "overflow": null,
       "overflow_x": null,
       "overflow_y": null,
       "padding": null,
       "right": null,
       "top": null,
       "visibility": null,
       "width": null
      }
     },
     "d710464319b242c8abef6bd35cb897ed": {
      "model_module": "@jupyter-widgets/controls",
      "model_module_version": "1.5.0",
      "model_name": "HBoxModel",
      "state": {
       "_dom_classes": [],
       "_model_module": "@jupyter-widgets/controls",
       "_model_module_version": "1.5.0",
       "_model_name": "HBoxModel",
       "_view_count": null,
       "_view_module": "@jupyter-widgets/controls",
       "_view_module_version": "1.5.0",
       "_view_name": "HBoxView",
       "box_style": "",
       "children": [
        "IPY_MODEL_71ca199c6e344e54b5dc685472fc62e0",
        "IPY_MODEL_8907400e345f4881ab7937a8dafd4f5d",
        "IPY_MODEL_378dbf0dcebb489faf754ad8f86e04f5"
       ],
       "layout": "IPY_MODEL_64a8c3d7a3464575a76d7079ad31834e"
      }
     },
     "d7f9be655b6a4609ab024c22c570b7d8": {
      "model_module": "@jupyter-widgets/controls",
      "model_module_version": "1.5.0",
      "model_name": "DescriptionStyleModel",
      "state": {
       "_model_module": "@jupyter-widgets/controls",
       "_model_module_version": "1.5.0",
       "_model_name": "DescriptionStyleModel",
       "_view_count": null,
       "_view_module": "@jupyter-widgets/base",
       "_view_module_version": "1.2.0",
       "_view_name": "StyleView",
       "description_width": ""
      }
     },
     "dc6e8e440ffb4ff88a09d6dca8176a02": {
      "model_module": "@jupyter-widgets/controls",
      "model_module_version": "1.5.0",
      "model_name": "FloatProgressModel",
      "state": {
       "_dom_classes": [],
       "_model_module": "@jupyter-widgets/controls",
       "_model_module_version": "1.5.0",
       "_model_name": "FloatProgressModel",
       "_view_count": null,
       "_view_module": "@jupyter-widgets/controls",
       "_view_module_version": "1.5.0",
       "_view_name": "ProgressView",
       "bar_style": "success",
       "description": "",
       "description_tooltip": null,
       "layout": "IPY_MODEL_20bb95a30cf84a53a4bff215521ec7de",
       "max": 435779157.0,
       "min": 0.0,
       "orientation": "horizontal",
       "style": "IPY_MODEL_66cfea3ad5b5469ca92ac283911bdf7c",
       "value": 435779157.0
      }
     },
     "e4fef746fbde4e249a58d6b66dcdd6b2": {
      "model_module": "@jupyter-widgets/controls",
      "model_module_version": "1.5.0",
      "model_name": "ProgressStyleModel",
      "state": {
       "_model_module": "@jupyter-widgets/controls",
       "_model_module_version": "1.5.0",
       "_model_name": "ProgressStyleModel",
       "_view_count": null,
       "_view_module": "@jupyter-widgets/base",
       "_view_module_version": "1.2.0",
       "_view_name": "StyleView",
       "bar_color": null,
       "description_width": ""
      }
     },
     "eef050592d1a4baebeeb106a835e3ebf": {
      "model_module": "@jupyter-widgets/base",
      "model_module_version": "1.2.0",
      "model_name": "LayoutModel",
      "state": {
       "_model_module": "@jupyter-widgets/base",
       "_model_module_version": "1.2.0",
       "_model_name": "LayoutModel",
       "_view_count": null,
       "_view_module": "@jupyter-widgets/base",
       "_view_module_version": "1.2.0",
       "_view_name": "LayoutView",
       "align_content": null,
       "align_items": null,
       "align_self": null,
       "border": null,
       "bottom": null,
       "display": null,
       "flex": null,
       "flex_flow": null,
       "grid_area": null,
       "grid_auto_columns": null,
       "grid_auto_flow": null,
       "grid_auto_rows": null,
       "grid_column": null,
       "grid_gap": null,
       "grid_row": null,
       "grid_template_areas": null,
       "grid_template_columns": null,
       "grid_template_rows": null,
       "height": null,
       "justify_content": null,
       "justify_items": null,
       "left": null,
       "margin": null,
       "max_height": null,
       "max_width": null,
       "min_height": null,
       "min_width": null,
       "object_fit": null,
       "object_position": null,
       "order": null,
       "overflow": null,
       "overflow_x": null,
       "overflow_y": null,
       "padding": null,
       "right": null,
       "top": null,
       "visibility": null,
       "width": null
      }
     },
     "f36827141c114b31b7f06e4f22c65647": {
      "model_module": "@jupyter-widgets/controls",
      "model_module_version": "1.5.0",
      "model_name": "DescriptionStyleModel",
      "state": {
       "_model_module": "@jupyter-widgets/controls",
       "_model_module_version": "1.5.0",
       "_model_name": "DescriptionStyleModel",
       "_view_count": null,
       "_view_module": "@jupyter-widgets/base",
       "_view_module_version": "1.2.0",
       "_view_name": "StyleView",
       "description_width": ""
      }
     },
     "fc6d71fbec804cec94bfa840d133f5a1": {
      "model_module": "@jupyter-widgets/base",
      "model_module_version": "1.2.0",
      "model_name": "LayoutModel",
      "state": {
       "_model_module": "@jupyter-widgets/base",
       "_model_module_version": "1.2.0",
       "_model_name": "LayoutModel",
       "_view_count": null,
       "_view_module": "@jupyter-widgets/base",
       "_view_module_version": "1.2.0",
       "_view_name": "LayoutView",
       "align_content": null,
       "align_items": null,
       "align_self": null,
       "border": null,
       "bottom": null,
       "display": null,
       "flex": null,
       "flex_flow": null,
       "grid_area": null,
       "grid_auto_columns": null,
       "grid_auto_flow": null,
       "grid_auto_rows": null,
       "grid_column": null,
       "grid_gap": null,
       "grid_row": null,
       "grid_template_areas": null,
       "grid_template_columns": null,
       "grid_template_rows": null,
       "height": null,
       "justify_content": null,
       "justify_items": null,
       "left": null,
       "margin": null,
       "max_height": null,
       "max_width": null,
       "min_height": null,
       "min_width": null,
       "object_fit": null,
       "object_position": null,
       "order": null,
       "overflow": null,
       "overflow_x": null,
       "overflow_y": null,
       "padding": null,
       "right": null,
       "top": null,
       "visibility": null,
       "width": null
      }
     },
     "ff8d4e7eb78e4bb59d4da093ba49cce0": {
      "model_module": "@jupyter-widgets/base",
      "model_module_version": "1.2.0",
      "model_name": "LayoutModel",
      "state": {
       "_model_module": "@jupyter-widgets/base",
       "_model_module_version": "1.2.0",
       "_model_name": "LayoutModel",
       "_view_count": null,
       "_view_module": "@jupyter-widgets/base",
       "_view_module_version": "1.2.0",
       "_view_name": "LayoutView",
       "align_content": null,
       "align_items": null,
       "align_self": null,
       "border": null,
       "bottom": null,
       "display": null,
       "flex": null,
       "flex_flow": null,
       "grid_area": null,
       "grid_auto_columns": null,
       "grid_auto_flow": null,
       "grid_auto_rows": null,
       "grid_column": null,
       "grid_gap": null,
       "grid_row": null,
       "grid_template_areas": null,
       "grid_template_columns": null,
       "grid_template_rows": null,
       "height": null,
       "justify_content": null,
       "justify_items": null,
       "left": null,
       "margin": null,
       "max_height": null,
       "max_width": null,
       "min_height": null,
       "min_width": null,
       "object_fit": null,
       "object_position": null,
       "order": null,
       "overflow": null,
       "overflow_x": null,
       "overflow_y": null,
       "padding": null,
       "right": null,
       "top": null,
       "visibility": null,
       "width": null
      }
     }
    },
    "version_major": 2,
    "version_minor": 0
   }
  }
 },
 "nbformat": 4,
 "nbformat_minor": 5
}
